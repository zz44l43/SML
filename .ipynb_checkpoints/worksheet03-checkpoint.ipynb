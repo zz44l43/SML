{
 "cells": [
  {
   "cell_type": "markdown",
   "metadata": {},
   "source": [
    "# COMP90051 Workshop 3\n",
    "## Logistic regression\n",
    "***\n",
    "In this workshop we'll be implementing L2-regularised logistic regression using `scipy` and `numpy`. \n",
    "Our key objectives are:\n",
    "\n",
    "* to become familiar with the optimisation problem that sits behind L2-regularised logistic regression;\n",
    "* to apply polynomial basis expansion and recognise when it's useful; and\n",
    "* to experiment with the effect of L2 regularisation."
   ]
  },
  {
   "cell_type": "code",
   "execution_count": 1,
   "metadata": {},
   "outputs": [],
   "source": [
    "%matplotlib inline\n",
    "import numpy as np\n",
    "import matplotlib.pyplot as plt"
   ]
  },
  {
   "cell_type": "markdown",
   "metadata": {},
   "source": [
    "### 1. Binary classification data\n",
    "Let's begin by generating some binary classification data.\n",
    "To make it easy for us to visualise the results, we'll stick to a two-dimensional feature space."
   ]
  },
  {
   "cell_type": "code",
   "execution_count": 2,
   "metadata": {},
   "outputs": [
    {
     "data": {
      "image/png": "[encoded data removed]",
      "text/plain": [
       "<Figure size 432x288 with 1 Axes>"
      ]
     },
     "metadata": {},
     "output_type": "display_data"
    }
   ],
   "source": [
    "from sklearn.datasets import make_circles\n",
    "X, Y = make_circles(n_samples=300, noise=0.1, factor=0.7, random_state=90051)\n",
    "plt.plot(X[Y==0,0], X[Y==0,1], 'o', label = \"y=0\")\n",
    "plt.plot(X[Y==1,0], X[Y==1,1], 's', label = \"y=1\")\n",
    "plt.legend()\n",
    "plt.xlabel(\"$x_0$\")\n",
    "plt.ylabel(\"$x_1$\")\n",
    "plt.show()"
   ]
  },
  {
   "cell_type": "markdown",
   "metadata": {},
   "source": [
    "**Question:** What's interesting about this data? Do you think logistic regression will perform well?"
   ]
  },
  {
   "cell_type": "markdown",
   "metadata": {},
   "source": [
    "In preparation for fitting and evaluating a logistic regression model, we randomly partition the data into train/test sets. We use the `train_test_split` function from `sklearn`."
   ]
  },
  {
   "cell_type": "code",
   "execution_count": 3,
   "metadata": {},
   "outputs": [
    {
     "name": "stdout",
     "output_type": "stream",
     "text": [
      "Training set has 201 instances. Test set has 99 instances.\n"
     ]
    }
   ],
   "source": [
    "from sklearn.model_selection import train_test_split\n",
    "X_train, X_test, Y_train, Y_test = train_test_split(X, Y, test_size=0.33, random_state=90051)\n",
    "print(\"Training set has {} instances. Test set has {} instances.\".format(X_train.shape[0], X_test.shape[0]))"
   ]
  },
  {
   "cell_type": "markdown",
   "metadata": {},
   "source": [
    "### 2. Logistic regression objective function"
   ]
  },
  {
   "cell_type": "markdown",
   "metadata": {},
   "source": [
    "Recall from lectures, that logistic regression models the distribution of the binary class $y$ *conditional* on the feature vector $\\mathbf{x}$ as\n",
    "$$\n",
    "y | \\mathbf{x} \\sim \\mathrm{Bernoulli}[\\sigma(\\mathbf{w}^T \\mathbf{x} + b)]\n",
    "$$\n",
    "where $\\mathbf{w}$ is the weight vector, $b$ is the bias term and $\\sigma(z) = 1/(1 + e^{-z})$ is the logistic function.\n",
    "To simplify the notation, we'll collect the model parameters $\\mathbf{w}$ and $b$ in a single vector $\\mathbf{v} = [b, \\mathbf{w}]$.\n",
    "\n",
    "Fitting this model amounts to choosing $\\mathbf{v}$ that minimises the sum of cross-entropies over the instances ($i = 1,\\ldots,n$) in the training set\n",
    "$$\n",
    "\\begin{align}\n",
    "    f_\\mathrm{cross-ent}(\\mathbf{v}; \\mathbf{X}, \\mathbf{Y}) = - \\sum_{i = 1}^{n} \\left\\{ y_i \\log \\sigma(\\mathbf{w}^T \\mathbf{x}_i + b) + (1 - y_i) \\log (1 - \\sigma(\\mathbf{w}^T \\mathbf{x}_i + b)) \\right\\}\n",
    "\\end{align}\n",
    "$$\n",
    "\n",
    "Often a regularisation term of the form $f_\\mathrm{reg}(\\mathbf{w}; \\lambda) = \\frac{1}{2} \\lambda \\mathbf{w}^T \\mathbf{w}$ is added to the objective to penalize large weights (this can help to prevent overfitting). Note that $\\lambda \\geq 0$ controls the strength of the regularisation term.\n",
    "\n",
    "Putting this together, our goal is to minimise the following objective function with respect to $\\mathbf{w}$ and $b$:\n",
    "$$\n",
    "f(\\mathbf{v}; \\mathbf{X}, \\mathbf{Y}, \\lambda) = f_\\mathrm{reg}(\\mathbf{w}; \\lambda) + f_\\mathrm{cross-ent}(\\mathbf{v}; \\mathbf{X}, \\mathbf{Y})\n",
    "$$\n",
    "\n",
    "**Question:** Why aren't we regularising the entire parameter vector $\\mathbf{v}$? Notice that only $\\mathbf{w}$ is included in $f_\\mathrm{reg}$—in other words $b$ is excluded from regularisation. \n",
    "\n",
    "We're going to find a solution to this minimisation problem using the BFGS algorithm (named after the inventors Broyden, Fletcher, Goldfarb and Shanno). BFGS is a \"hill-climbing\" algorithm like gradient descent, however it additionally makes use of second-order derivative information (by approximating the Hessian). It converges in fewer iterations than gradient descent (it's convergence rate is *superlinear* whereas gradient descent is only *linear*).\n",
    "\n",
    "We'll use an implementation of BFGS provided in `scipy` called `fmin_bfgs`. The algorithm requires two functions as input: (i) a function that evaluates the objective $f(\\mathbf{v}; \\ldots)$ and (ii) a function that evalutes the gradient $\\nabla_{\\mathbf{v}} f(\\mathbf{v}; \\ldots)$.\n",
    "\n",
    "Let's start by writing a function to compute $f(\\mathbf{v}; \\ldots)$."
   ]
  },
  {
   "cell_type": "code",
   "execution_count": 8,
   "metadata": {},
   "outputs": [
    {
     "name": "stdout",
     "output_type": "stream",
     "text": [
      "[[0. 1. 2. 3. 4.]\n",
      " [5. 6. 7. 8. 9.]]\n",
      "[[0. 5.]\n",
      " [1. 6.]\n",
      " [2. 7.]\n",
      " [3. 8.]\n",
      " [4. 9.]]\n"
     ]
    }
   ],
   "source": [
    "a = np.array([0, 1, 2, 3, 4])\n",
    "a.T\n",
    "b = np.array([[0, 1, 2, 3, 4], [5, 6, 7, 8, 9]], dtype = float)\n",
    "print(b)\n",
    "print(b.T)"
   ]
  },
  {
   "cell_type": "code",
   "execution_count": 9,
   "metadata": {},
   "outputs": [],
   "source": [
    "from scipy.special import expit # this is the logistic function\n",
    "\n",
    "# v: parameter vector\n",
    "# X: feature matrix\n",
    "# Y: class labels\n",
    "# Lambda: regularisation constant\n",
    "def obj_fn(v, X, Y, Lambda):\n",
    "    prob_1 = expit(np.dot(X,v[1::]) + v[0])\n",
    "    reg_term = 0.5*Lambda*(np.dot(v.T,v))\n",
    "    cross_entropy_term = - np.dot(Y, np.log(prob_1)) - np.dot(1. - Y, np.log(1. - prob_1))\n",
    "    return reg_term + cross_entropy_term"
   ]
  },
  {
   "cell_type": "markdown",
   "metadata": {},
   "source": [
    "Now for the gradient, we use the following result (if you're familiar with vector calculus, you may wish to derive this yourself):\n",
    "$$\n",
    "\\nabla_{\\mathbf{v}} f(\\mathbf{v}; \\ldots) = \\left[\\frac{\\partial f(\\mathbf{w}, b;\\ldots)}{\\partial b}, \\nabla_{\\mathbf{w}} f(\\mathbf{w}, b; \\ldots) \\right] = \\left[\\sum_{i = 1}^{n} \\sigma(\\mathbf{w}^T \\mathbf{x}_i + b) - y_i, \\sum_{i = 1}^{n} \\lambda \\mathbf{w} + (\\sigma(\\mathbf{w}^T \\mathbf{x}_i + b) - y_i)\\mathbf{x}_i\\right]\n",
    "$$\n",
    "\n",
    "The function below implements $\\nabla_{\\mathbf{v}} f(\\mathbf{v}; \\ldots)$."
   ]
  },
  {
   "cell_type": "code",
   "execution_count": 10,
   "metadata": {},
   "outputs": [],
   "source": [
    "# v: parameter vector\n",
    "# X: feature matrix\n",
    "# Y: class labels\n",
    "# Lambda: regularisation constant\n",
    "def grad_obj_fn(v, X, Y, Lambda):\n",
    "    prob_1 = expit(np.dot(X, v[1::]) + v[0])\n",
    "    grad_b = np.sum(prob_1 - Y)\n",
    "    grad_w = Lambda * v[1::] + np.dot(prob_1 - Y, X)\n",
    "    return np.insert(grad_w, 0, grad_b)"
   ]
  },
  {
   "cell_type": "markdown",
   "metadata": {},
   "source": [
    "### 3. Solving the minimization problem using BFGS"
   ]
  },
  {
   "cell_type": "markdown",
   "metadata": {},
   "source": [
    "Now that we've implemented functions to compute the objective and the gradient, we can plug them into `fmin_bfgs`.\n",
    "Specifically, we define a function `my_logistic_regression` which calls `fmin_bfgs` and returns the optimal weight vector."
   ]
  },
  {
   "cell_type": "code",
   "execution_count": 11,
   "metadata": {},
   "outputs": [],
   "source": [
    "from scipy.optimize import fmin_bfgs\n",
    "\n",
    "# X: feature matrix\n",
    "# Y: class labels\n",
    "# Lambda: regularisation constant\n",
    "# v_initial: initial guess for parameter vector\n",
    "def my_logistic_regression(X, Y, Lambda, v_initial, disp=True):\n",
    "    # Function for displaying progress\n",
    "    def display(v):\n",
    "        print('v is', v, 'objective is', obj_fn(v, X, Y, Lambda))\n",
    "    \n",
    "    return fmin_bfgs(f=obj_fn, fprime=grad_obj_fn, \n",
    "                     x0=v_initial, args=(X, Y, Lambda), disp=disp, \n",
    "                     callback=display)"
   ]
  },
  {
   "cell_type": "markdown",
   "metadata": {},
   "source": [
    "Let's try it out!"
   ]
  },
  {
   "cell_type": "code",
   "execution_count": 16,
   "metadata": {},
   "outputs": [
    {
     "data": {
      "text/plain": [
       "array([0., 0., 0.])"
      ]
     },
     "execution_count": 16,
     "metadata": {},
     "output_type": "execute_result"
    }
   ],
   "source": [
    "np.zeros(3)"
   ]
  },
  {
   "cell_type": "code",
   "execution_count": 67,
   "metadata": {
    "scrolled": false
   },
   "outputs": [
    {
     "name": "stdout",
     "output_type": "stream",
     "text": [
      "v is [-0.12365588 -0.07849366  0.01922814] objective is 138.8155748948817\n",
      "v is [-0.10033939 -0.16096559  0.04971579] objective is 138.72150316289208\n",
      "v is [-0.10131231 -0.15974089  0.05496854] objective is 138.72124582267128\n",
      "v is [-0.10246261 -0.16056369  0.05477062] objective is 138.72088467257876\n",
      "v is [-0.10439196 -0.16192706  0.05450058] objective is 138.72047028700257\n",
      "v is [-0.10763242 -0.16421768  0.05404721] objective is 138.72030276704874\n",
      "Warning: Desired error not necessarily achieved due to precision loss.\n",
      "         Current function value: 138.720303\n",
      "         Iterations: 6\n",
      "         Function evaluations: 91\n",
      "         Gradient evaluations: 79\n"
     ]
    },
    {
     "data": {
      "image/png": "[encoded data removed]",
      "text/plain": [
       "<Figure size 432x288 with 1 Axes>"
      ]
     },
     "metadata": {},
     "output_type": "display_data"
    }
   ],
   "source": [
    "Lambda = 1\n",
    "v_initial = np.zeros(3) # fill in a vector of zeros of appropriate length\n",
    "v_opt = my_logistic_regression(X_train, Y_train, Lambda, v_initial)\n",
    "\n",
    "# Function to plot the data points and decision boundary\n",
    "def plot_results(X, Y, v, trans_func = None):\n",
    "    # Scatter plot in feature space\n",
    "    plt.plot(X[Y==0,0], X[Y==0,1], 'o', label = \"y=0\")\n",
    "    plt.plot(X[Y==1,0], X[Y==1,1], 's', label = \"y=1\")\n",
    "    \n",
    "    # Compute axis limits\n",
    "    x0_lower = X[:,0].min() - 0.1\n",
    "    x0_upper = X[:,0].max() + 0.1\n",
    "    x1_lower = X[:,1].min() - 0.1\n",
    "    x1_upper = X[:,1].max() + 0.1\n",
    "    \n",
    "    # Generate grid over feature space\n",
    "    x0, x1 = np.mgrid[x0_lower:x0_upper:.01, x1_lower:x1_upper:.01]\n",
    "    grid = np.c_[x0.ravel(), x1.ravel()]\n",
    "    if (trans_func is not None):\n",
    "        grid = trans_func(grid) # apply transformation to features\n",
    "    arg = (np.dot(grid, v[1::]) + v[0]).reshape(x0.shape)\n",
    "    \n",
    "    # Plot decision boundary (where w^T x + b == 0)\n",
    "    plt.contour(x0, x1, arg, levels=[0], cmap=\"Greys\", vmin=-0.2, vmax=0.2)\n",
    "    plt.legend()\n",
    "    plt.show()\n",
    "    \n",
    "plot_results(X, Y, v_opt)"
   ]
  },
  {
   "cell_type": "markdown",
   "metadata": {},
   "source": [
    "**Question:** Is the solution what you expected? Is it a good fit for the data?\n",
    "\n",
    "**Question:** What's the accuracy of this model? Fill in the code below assuming the following decision function\n",
    "$$\n",
    "\\hat{y} = \\begin{cases}\n",
    "    1, &\\mathrm{if} \\ p(y = 1|\\mathbf{x}) \\geq \\tfrac{1}{2}, \\\\\n",
    "    0, &\\mathrm{otherwise}.\n",
    "\\end{cases}\n",
    "$$"
   ]
  },
  {
   "cell_type": "code",
   "execution_count": 47,
   "metadata": {},
   "outputs": [],
   "source": [
    "predict_score = expit(np.dot(X_test,w[1::]) + w[0])"
   ]
  },
  {
   "cell_type": "code",
   "execution_count": 48,
   "metadata": {},
   "outputs": [
    {
     "data": {
      "text/plain": [
       "1"
      ]
     },
     "execution_count": 48,
     "metadata": {},
     "output_type": "execute_result"
    }
   ],
   "source": [
    "def classify(x):\n",
    "    if x >= 0.5:\n",
    "        return 1\n",
    "    else:\n",
    "        return 0\n",
    "classify(0.6)"
   ]
  },
  {
   "cell_type": "code",
   "execution_count": 50,
   "metadata": {},
   "outputs": [],
   "source": [
    "vv = np.vectorize(classify)\n",
    "dd = vv(predict_score)"
   ]
  },
  {
   "cell_type": "code",
   "execution_count": 51,
   "metadata": {},
   "outputs": [
    {
     "data": {
      "text/plain": [
       "array([0, 0, 0, 0, 1, 0, 0, 0, 0, 0, 0, 0, 1, 1, 0, 0, 0, 1, 0, 1, 0, 0,\n",
       "       1, 0, 0, 0, 0, 0, 0, 0, 0, 0, 0, 0, 1, 0, 0, 0, 0, 0, 1, 0, 0, 0,\n",
       "       1, 1, 0, 1, 0, 0, 0, 0, 0, 0, 0, 0, 1, 0, 0, 0, 0, 1, 0, 0, 0, 0,\n",
       "       0, 0, 0, 0, 0, 0, 0, 0, 1, 0, 0, 1, 0, 1, 0, 0, 0, 0, 0, 0, 0, 0,\n",
       "       0, 0, 0, 1, 0, 0, 0, 0, 0, 1, 0])"
      ]
     },
     "execution_count": 51,
     "metadata": {},
     "output_type": "execute_result"
    }
   ],
   "source": [
    "dd"
   ]
  },
  {
   "cell_type": "code",
   "execution_count": 52,
   "metadata": {},
   "outputs": [
    {
     "data": {
      "text/plain": [
       "0.36363636363636365"
      ]
     },
     "execution_count": 52,
     "metadata": {},
     "output_type": "execute_result"
    }
   ],
   "source": [
    "from sklearn.metrics import accuracy_score\n",
    "Y_test_pred = dd\n",
    "accuracy_score(Y_test, Y_test_pred)"
   ]
  },
  {
   "cell_type": "markdown",
   "metadata": {},
   "source": [
    "### 4. Adding polynomial features"
   ]
  },
  {
   "cell_type": "markdown",
   "metadata": {},
   "source": [
    "We've seen that ordinary logistic regression does poorly on this data set, because the data is not linearly separable in the $x_0,x_1$ feature space.\n",
    "\n",
    "We can get around this problem using basis expansion. In this case, we'll augment the feature space by adding polynomial features of degree 2. In other words, we replace the original feature matrix $\\mathbf{X}$ by a transformed feature matrix $\\mathbf{\\Phi}$ which contains additional columns corresponding to $x_0^2$, $x_0 x_1$ and $x_1^2$. This is done using the function `add_quadratic_features` defined below.\n",
    "\n",
    "**Note:** There's a built-in function in `sklearn` for adding polynomial features located at `sklearn.preprocessing.PolynomialFeatures`."
   ]
  },
  {
   "cell_type": "code",
   "execution_count": 53,
   "metadata": {},
   "outputs": [],
   "source": [
    "# X: original feature matrix\n",
    "def add_quadratic_features(X):\n",
    "    return np.c_[X, X[:,0]**2, X[:,0]*X[:,1], X[:,1]**2]\n",
    "\n",
    "Phi_train = add_quadratic_features(X_train)\n",
    "Phi_test = add_quadratic_features(X_test)"
   ]
  },
  {
   "cell_type": "markdown",
   "metadata": {},
   "source": [
    "Let's apply our custom logistic regression function again on the augmented feature space."
   ]
  },
  {
   "cell_type": "code",
   "execution_count": 54,
   "metadata": {},
   "outputs": [
    {
     "data": {
      "text/plain": [
       "array([[ 0.73060659, -0.17890612,  0.53378599, -0.13070999,  0.0320074 ],\n",
       "       [ 0.0391169 , -0.60885399,  0.00153013, -0.02381648,  0.37070318],\n",
       "       [-0.74160427, -0.1943512 ,  0.5499769 ,  0.14413168,  0.03777239],\n",
       "       ...,\n",
       "       [-0.60502488,  0.51477636,  0.3660551 , -0.31145251,  0.26499471],\n",
       "       [ 0.46594   ,  0.94504225,  0.21710008,  0.44033299,  0.89310486],\n",
       "       [ 0.4400829 ,  0.63726987,  0.19367296,  0.28045157,  0.40611288]])"
      ]
     },
     "execution_count": 54,
     "metadata": {},
     "output_type": "execute_result"
    }
   ],
   "source": [
    "Phi_train"
   ]
  },
  {
   "cell_type": "code",
   "execution_count": 56,
   "metadata": {},
   "outputs": [
    {
     "name": "stdout",
     "output_type": "stream",
     "text": [
      "v is [-0.25330176 -0.16078962  0.0393877  -0.69061891 -0.06191788 -0.66913767] objective is 133.7575406260172\n",
      "v is [ 0.14226952 -0.26297437  0.09074359 -1.12037447 -0.11613926 -1.09871977] objective is 123.28088252263505\n",
      "v is [ 0.93068282  0.58741791 -0.1680698  -2.03373655 -0.14819442 -2.11353005] objective is 111.56249902308814\n",
      "v is [ 1.96666804  0.21897449 -0.22513361 -3.13500318  0.03507788 -3.14667314] objective is 95.38248739545443\n",
      "v is [ 2.20106002  0.28656485  0.27396964 -3.33123927 -0.09743753 -3.47686938] objective is 93.21907719680331\n",
      "v is [ 2.54848837  0.16626293  0.18855341 -3.57712715 -0.60623342 -3.9192986 ] objective is 90.91977722910168\n",
      "v is [ 3.11924784  0.05138997  0.17332176 -4.51518251 -0.31745887 -4.14609383] objective is 90.2565371111428\n",
      "v is [ 3.17968429  0.0218049   0.15966877 -4.49740036 -0.2361605  -4.29560262] objective is 90.12543370828683\n",
      "v is [ 3.23074556e+00  2.42399917e-03  1.50981201e-01 -4.50762171e+00\n",
      " -2.78490096e-01 -4.39036764e+00] objective is 90.11958802242299\n",
      "Warning: Desired error not necessarily achieved due to precision loss.\n",
      "         Current function value: 90.119588\n",
      "         Iterations: 9\n",
      "         Function evaluations: 114\n",
      "         Gradient evaluations: 102\n"
     ]
    },
    {
     "data": {
      "image/png": "[encoded data removed]",
      "text/plain": [
       "<Figure size 432x288 with 1 Axes>"
      ]
     },
     "metadata": {},
     "output_type": "display_data"
    }
   ],
   "source": [
    "Lambda = 1\n",
    "v_initial = np.zeros(6) # fill in a vector of zeros of appropriate length\n",
    "v_opt = my_logistic_regression(Phi_train, Y_train, Lambda, v_initial)\n",
    "plot_results(X, Y, v_opt, trans_func=add_quadratic_features)"
   ]
  },
  {
   "cell_type": "markdown",
   "metadata": {},
   "source": [
    "This time we should get a better result for the accuracy on the test set."
   ]
  },
  {
   "cell_type": "code",
   "execution_count": 59,
   "metadata": {},
   "outputs": [],
   "source": [
    "w2 = np.array([3.23074556e+00, 2.42399917e-03,1.50981201e-01,-4.50762171e+00,-2.78490096e-01, -4.39036764e+00])"
   ]
  },
  {
   "cell_type": "code",
   "execution_count": 60,
   "metadata": {},
   "outputs": [],
   "source": [
    "predict_score2 = expit(np.dot(Phi_test,w2[1::]) + w2[0])"
   ]
  },
  {
   "cell_type": "code",
   "execution_count": 61,
   "metadata": {},
   "outputs": [],
   "source": [
    "vv2 = np.vectorize(classify)\n",
    "dd2 = vv(predict_score2)"
   ]
  },
  {
   "cell_type": "code",
   "execution_count": 62,
   "metadata": {},
   "outputs": [
    {
     "data": {
      "text/plain": [
       "array([0, 1, 1, 1, 0, 0, 0, 1, 0, 1, 1, 1, 1, 0, 1, 1, 1, 1, 1, 0, 0, 1,\n",
       "       0, 1, 0, 0, 0, 1, 1, 0, 0, 0, 0, 0, 1, 1, 0, 1, 1, 1, 0, 0, 0, 0,\n",
       "       1, 1, 0, 1, 0, 1, 0, 1, 1, 1, 1, 1, 0, 1, 1, 1, 0, 0, 1, 0, 1, 1,\n",
       "       1, 1, 0, 1, 1, 1, 1, 0, 0, 1, 1, 0, 1, 0, 1, 0, 0, 0, 0, 0, 0, 1,\n",
       "       1, 1, 1, 0, 0, 1, 0, 1, 1, 1, 0])"
      ]
     },
     "execution_count": 62,
     "metadata": {},
     "output_type": "execute_result"
    }
   ],
   "source": [
    "dd2"
   ]
  },
  {
   "cell_type": "code",
   "execution_count": 63,
   "metadata": {},
   "outputs": [
    {
     "data": {
      "text/plain": [
       "0.9191919191919192"
      ]
     },
     "execution_count": 63,
     "metadata": {},
     "output_type": "execute_result"
    }
   ],
   "source": [
    "from sklearn.metrics import accuracy_score\n",
    "Y_test_pred = dd2 # fill in\n",
    "accuracy_score(Y_test, Y_test_pred)"
   ]
  },
  {
   "cell_type": "markdown",
   "metadata": {},
   "source": [
    "### 5. Effect of regularisation"
   ]
  },
  {
   "cell_type": "markdown",
   "metadata": {},
   "source": [
    "So far, we've fixed the regularisation constant so that $\\lambda = 1$. (Note it's possible to choose an \"optimal\" value for $\\lambda$ by applying cross-validation.)\n",
    "\n",
    "**Question:** What do you think will happen if we switch the regularisation off? Try setting $\\lambda$ to a small value (say $10^{-3}$) and check whether the accuracy of the model is affected."
   ]
  },
  {
   "cell_type": "markdown",
   "metadata": {},
   "source": [
    "### 6. Logistic regression using sklearn"
   ]
  },
  {
   "cell_type": "markdown",
   "metadata": {},
   "source": [
    "Now that you have some insight into the optimisation problem behind logistic regression, you should feel confident in using the built-in implementation in `sklearn` (or other packages).\n",
    "Note that the `sklearn` implementation handles floating point underflow/overflow more carefully than we have done, and uses faster numerical optimisation algorithms."
   ]
  },
  {
   "cell_type": "code",
   "execution_count": 68,
   "metadata": {},
   "outputs": [
    {
     "data": {
      "text/plain": [
       "LogisticRegression(C=1, class_weight=None, dual=False, fit_intercept=True,\n",
       "          intercept_scaling=1, max_iter=100, multi_class='ovr', n_jobs=1,\n",
       "          penalty='l2', random_state=None, solver='liblinear', tol=0.0001,\n",
       "          verbose=0, warm_start=False)"
      ]
     },
     "execution_count": 68,
     "metadata": {},
     "output_type": "execute_result"
    }
   ],
   "source": [
    "from sklearn.linear_model import LogisticRegression\n",
    "clf = LogisticRegression(C=1)\n",
    "clf.fit(Phi_train, Y_train)"
   ]
  },
  {
   "cell_type": "code",
   "execution_count": 69,
   "metadata": {},
   "outputs": [
    {
     "data": {
      "text/plain": [
       "0.9090909090909091"
      ]
     },
     "execution_count": 69,
     "metadata": {},
     "output_type": "execute_result"
    }
   ],
   "source": [
    "from sklearn.metrics import accuracy_score\n",
    "Y_test_pred = clf.predict(Phi_test)\n",
    "accuracy_score(Y_test, Y_test_pred)"
   ]
  }
 ],
 "metadata": {
  "kernelspec": {
   "display_name": "Python 3",
   "language": "python",
   "name": "python3"
  },
  "language_info": {
   "codemirror_mode": {
    "name": "ipython",
    "version": 3
   },
   "file_extension": ".py",
   "mimetype": "text/x-python",
   "name": "python",
   "nbconvert_exporter": "python",
   "pygments_lexer": "ipython3",
   "version": "3.6.5"
  }
 },
 "nbformat": 4,
 "nbformat_minor": 2
}
