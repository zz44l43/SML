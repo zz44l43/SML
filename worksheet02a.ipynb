{
 "cells": [
  {
   "cell_type": "markdown",
   "metadata": {},
   "source": [
    "# COMP90051 Workshop 2\n",
    "## Part A: Linear regression\n",
    "\n",
    "***\n",
    "\n",
    "Our aim for this part of the workshop is to fit a linear model from scratch—relying only on the `numpy` library. We'll experiment with two implementations: one based on iterative updates (coordinate descent) and another based on linear algebra. Finally, to check the correctness of our implementation, we'll compare its output to the output of `sklearn`.\n",
    "\n",
    "Firstly we will import the relevant libraries (`numpy`, `matplotlib`, etc.)."
   ]
  },
  {
   "cell_type": "code",
   "execution_count": 1,
   "metadata": {},
   "outputs": [],
   "source": [
    "%matplotlib inline\n",
    "import numpy as np\n",
    "import matplotlib.pyplot as plt\n",
    "import io"
   ]
  },
  {
   "cell_type": "markdown",
   "metadata": {},
   "source": [
    "To check what a command does simply type `object?`. For example:"
   ]
  },
  {
   "cell_type": "code",
   "execution_count": 2,
   "metadata": {},
   "outputs": [],
   "source": [
    "np.arange?"
   ]
  },
  {
   "cell_type": "markdown",
   "metadata": {},
   "source": [
    "### 1. Review\n",
    "In lectures, we saw that a linear model can be expressed as:\n",
    "$$y = w_0 + \\sum_{j = 1}^{m} w_j x_j = \\mathbf{w} \\cdot \\mathbf{x} $$\n",
    "where \n",
    "\n",
    "* $y$ is the *target variable*;\n",
    "* $\\mathbf{x} = [x_1, \\ldots, x_m]$ is a vector of *features* (we define $x_0 = 1$); and\n",
    "* $\\mathbf{w} = [w_0, \\ldots, w_m]$ are the *weights*.\n",
    "\n",
    "To fit the model, we *minimise* the empirical risk with respect to $\\vec{w}$. In this simplest case (square loss), this amounts to minimising the sum of squared residuals:\n",
    "\n",
    "$$SSR(\\mathbf{w}) = \\sum_{i=1}^{n}(y_i - \\mathbf{w} \\cdot \\mathbf{x}_i)^2$$\n",
    "\n",
    "**Note:** For simplicity, we'll consider the case $m = 1$ (i.e. only one feature excluding the intercept)."
   ]
  },
  {
   "cell_type": "markdown",
   "metadata": {},
   "source": [
    "### 2. Data set\n",
    "We'll be working with some data from the Olympics—the gold medal race times for marathon winners from 1896 to 2012. The code block below reads the data into a numpy array of floats, and prints the result."
   ]
  },
  {
   "cell_type": "code",
   "execution_count": 3,
   "metadata": {},
   "outputs": [
    {
     "name": "stdout",
     "output_type": "stream",
     "text": [
      "[[1896.            4.47083333]\n",
      " [1900.            4.46472926]\n",
      " [1904.            5.22208333]\n",
      " [1908.            4.15467867]\n",
      " [1912.            3.90331675]\n",
      " [1920.            3.56951267]\n",
      " [1924.            3.82454477]\n",
      " [1928.            3.62483707]\n",
      " [1932.            3.59284275]\n",
      " [1936.            3.53880792]\n",
      " [1948.            3.67010309]\n",
      " [1952.            3.39029111]\n",
      " [1956.            3.43642612]\n",
      " [1960.            3.20583007]\n",
      " [1964.            3.13275665]\n",
      " [1968.            3.32819844]\n",
      " [1972.            3.13583758]\n",
      " [1976.            3.0789588 ]\n",
      " [1980.            3.10581822]\n",
      " [1984.            3.06552909]\n",
      " [1988.            3.09357349]\n",
      " [1992.            3.16111704]\n",
      " [1996.            3.14255244]\n",
      " [2000.            3.08527867]\n",
      " [2004.            3.10265829]\n",
      " [2008.            2.99877553]\n",
      " [2012.            3.03392977]]\n"
     ]
    }
   ],
   "source": [
    "# CSV file with variables YEAR,TIME\n",
    "csv = \"\"\"1896,4.47083333333333\n",
    "1900,4.46472925981123\n",
    "1904,5.22208333333333\n",
    "1908,4.1546786744085\n",
    "1912,3.90331674958541\n",
    "1920,3.5695126705653\n",
    "1924,3.8245447722874\n",
    "1928,3.62483706600308\n",
    "1932,3.59284275388079\n",
    "1936,3.53880791562981\n",
    "1948,3.6701030927835\n",
    "1952,3.39029110874116\n",
    "1956,3.43642611683849\n",
    "1960,3.2058300746534\n",
    "1964,3.13275664573212\n",
    "1968,3.32819844373346\n",
    "1972,3.13583757949204\n",
    "1976,3.07895880238575\n",
    "1980,3.10581822490816\n",
    "1984,3.06552909112454\n",
    "1988,3.09357348817\n",
    "1992,3.16111703598373\n",
    "1996,3.14255243512264\n",
    "2000,3.08527866650867\n",
    "2004,3.1026582928467\n",
    "2008,2.99877552632618\n",
    "2012,3.03392977050993\"\"\"\n",
    "\n",
    "# Read into a numpy array (as floats)\n",
    "olympics = np.genfromtxt(io.BytesIO(csv.encode()), delimiter=\",\")\n",
    "print(olympics)"
   ]
  },
  {
   "cell_type": "markdown",
   "metadata": {},
   "source": [
    "We'll take the race time as the *target variable* $y$ and the year of the race as the only non-trivial *feature* $x = x_1$."
   ]
  },
  {
   "cell_type": "code",
   "execution_count": 39,
   "metadata": {},
   "outputs": [],
   "source": [
    "x = olympics[:, 0:1]\n",
    "y = olympics[:, 1:2]"
   ]
  },
  {
   "cell_type": "code",
   "execution_count": 8,
   "metadata": {},
   "outputs": [],
   "source": [
    "olympics?"
   ]
  },
  {
   "cell_type": "markdown",
   "metadata": {},
   "source": [
    "Plotting $y$ vs $x$, we see that a linear model could be a decent fit for this data."
   ]
  },
  {
   "cell_type": "code",
   "execution_count": 40,
   "metadata": {
    "scrolled": true
   },
   "outputs": [
    {
     "data": {
      "image/png": "[encoded data removed]",
      "text/plain": [
       "<Figure size 432x288 with 1 Axes>"
      ]
     },
     "metadata": {},
     "output_type": "display_data"
    }
   ],
   "source": [
    "plt.plot(x, y, 'rx')\n",
    "plt.ylabel(\"y (Race time)\")\n",
    "plt.xlabel(\"x (Year of race)\")\n",
    "plt.show()"
   ]
  },
  {
   "cell_type": "markdown",
   "metadata": {},
   "source": [
    "### 3. Iterative solution (coordinate descent)"
   ]
  },
  {
   "cell_type": "markdown",
   "metadata": {},
   "source": [
    "Expanding out the sum of square residuals for this simple case (where $\\mathbf{w}=[w_0, w_1]$) we have:\n",
    "$$SSR(w_0, w_1) = \\sum_{i=1}^{n}(y_i - w_0 - w_1 x_i)^2$$\n",
    "Let's start with an initial guess for the slope $w_1$ (which is clearly negative from the plot)."
   ]
  },
  {
   "cell_type": "code",
   "execution_count": 37,
   "metadata": {},
   "outputs": [],
   "source": [
    "w1 = -0.4"
   ]
  },
  {
   "cell_type": "markdown",
   "metadata": {},
   "source": [
    "Then using the maximum likelihood update, we get the following estimate for the intercept $w_0$:\n",
    "$$w_0 = \\frac{\\sum_{i=1}^{n}(y_i-w_1 x_i)}{n}$$"
   ]
  },
  {
   "cell_type": "code",
   "execution_count": 49,
   "metadata": {},
   "outputs": [
    {
     "name": "stdout",
     "output_type": "stream",
     "text": [
      "[[4.47083333]\n",
      " [4.46472926]\n",
      " [5.22208333]\n",
      " [4.15467867]\n",
      " [3.90331675]\n",
      " [3.56951267]\n",
      " [3.82454477]\n",
      " [3.62483707]\n",
      " [3.59284275]\n",
      " [3.53880792]\n",
      " [3.67010309]\n",
      " [3.39029111]\n",
      " [3.43642612]\n",
      " [3.20583007]\n",
      " [3.13275665]\n",
      " [3.32819844]\n",
      " [3.13583758]\n",
      " [3.0789588 ]\n",
      " [3.10581822]\n",
      " [3.06552909]\n",
      " [3.09357349]\n",
      " [3.16111704]\n",
      " [3.14255244]\n",
      " [3.08527867]\n",
      " [3.10265829]\n",
      " [2.99877553]\n",
      " [3.03392977]]\n"
     ]
    }
   ],
   "source": [
    "print(np.sum(y-w1*x)/y.size)"
   ]
  },
  {
   "cell_type": "code",
   "execution_count": 46,
   "metadata": {},
   "outputs": [
    {
     "name": "stdout",
     "output_type": "stream",
     "text": [
      "786.0197711453593\n"
     ]
    }
   ],
   "source": [
    "def update_w0(x, y, w1):\n",
    "    return np.sum(y-w1*x)/y.size\n",
    "\n",
    "w0 = update_w0(x, y, w1)\n",
    "print(w0)"
   ]
  },
  {
   "cell_type": "markdown",
   "metadata": {},
   "source": [
    "Similarly, we can update $w_1$ based on this new estimate of $w_0$:\n",
    "$$w_1 = \\frac{\\sum_{i=1}^{n} (y_i - w_0) \\times x_i}{\\sum_{i=1}^{n} x_i^2}$$"
   ]
  },
  {
   "cell_type": "code",
   "execution_count": 53,
   "metadata": {},
   "outputs": [
    {
     "name": "stdout",
     "output_type": "stream",
     "text": [
      "[[3594816.]\n",
      " [3610000.]\n",
      " [3625216.]\n",
      " [3640464.]\n",
      " [3655744.]\n",
      " [3686400.]\n",
      " [3701776.]\n",
      " [3717184.]\n",
      " [3732624.]\n",
      " [3748096.]\n",
      " [3794704.]\n",
      " [3810304.]\n",
      " [3825936.]\n",
      " [3841600.]\n",
      " [3857296.]\n",
      " [3873024.]\n",
      " [3888784.]\n",
      " [3904576.]\n",
      " [3920400.]\n",
      " [3936256.]\n",
      " [3952144.]\n",
      " [3968064.]\n",
      " [3984016.]\n",
      " [4000000.]\n",
      " [4016016.]\n",
      " [4032064.]\n",
      " [4048144.]]\n"
     ]
    }
   ],
   "source": [
    "print(x*x)"
   ]
  },
  {
   "cell_type": "code",
   "execution_count": 55,
   "metadata": {},
   "outputs": [
    {
     "name": "stdout",
     "output_type": "stream",
     "text": [
      "-0.3998724072997095\n"
     ]
    }
   ],
   "source": [
    "print(np.sum((y-w0)*x)/np.sum((x*x)))"
   ]
  },
  {
   "cell_type": "code",
   "execution_count": 56,
   "metadata": {},
   "outputs": [
    {
     "name": "stdout",
     "output_type": "stream",
     "text": [
      "-0.3998724072997095\n"
     ]
    }
   ],
   "source": [
    "def update_w1(x, y, w0):\n",
    "    return np.sum((y-w0)*x)/np.sum((x*x))\n",
    "\n",
    "w1 = update_w1(x, y, w0)\n",
    "print(w1)"
   ]
  },
  {
   "cell_type": "markdown",
   "metadata": {},
   "source": [
    "Let's examine the quality of fit for these values for the weights $w_0$ and $w_1$. We create a vector of \"test\" values `x_test` and a function to compute the predictions according to the model."
   ]
  },
  {
   "cell_type": "code",
   "execution_count": 73,
   "metadata": {},
   "outputs": [
    {
     "name": "stdout",
     "output_type": "stream",
     "text": [
      "[1896 1900 1904 1908 1912 1916 1920 1924 1928 1932 1936 1940 1944 1948\n",
      " 1952 1956 1960 1964 1968 1972 1976 1980 1984 1988 1992 1996 2000 2004\n",
      " 2008 2012]\n"
     ]
    }
   ],
   "source": [
    "print(np.arange(1896, 2016)[0::4])"
   ]
  },
  {
   "cell_type": "code",
   "execution_count": 57,
   "metadata": {},
   "outputs": [],
   "source": [
    "x_test = np.arange(1890, 2020)[:, None]\n",
    "\n",
    "def predict(x_test, w0, w1): \n",
    "    return w0 + w1*x_test"
   ]
  },
  {
   "cell_type": "markdown",
   "metadata": {},
   "source": [
    "Now plot the test predictions with a blue line on the same plot as the data."
   ]
  },
  {
   "cell_type": "code",
   "execution_count": 59,
   "metadata": {},
   "outputs": [
    {
     "name": "stdout",
     "output_type": "stream",
     "text": [
      "786.0197711453593\n",
      "-0.3998724072997095\n"
     ]
    }
   ],
   "source": [
    "print(w0)\n",
    "print(w1)"
   ]
  },
  {
   "cell_type": "code",
   "execution_count": 58,
   "metadata": {},
   "outputs": [
    {
     "data": {
      "image/png": "[encoded data removed]",
      "text/plain": [
       "<Figure size 432x288 with 1 Axes>"
      ]
     },
     "metadata": {},
     "output_type": "display_data"
    }
   ],
   "source": [
    "def plot_fit(x_test, y_test, x, y): \n",
    "    plt.plot(x_test, y_test, 'b-')\n",
    "    plt.plot(x, y, 'rx')\n",
    "    plt.ylabel(\"y (Race time)\")\n",
    "    plt.xlabel(\"x (Year of race)\")\n",
    "    plt.show()\n",
    "\n",
    "plot_fit(x_test, predict(x_test, w0, w1), x, y)"
   ]
  },
  {
   "cell_type": "markdown",
   "metadata": {},
   "source": [
    "We'll compute the sum of square residuals $SSR(w_0,w_1)$ on the training set to measure the goodness of fit."
   ]
  },
  {
   "cell_type": "code",
   "execution_count": 78,
   "metadata": {},
   "outputs": [
    {
     "data": {
      "text/plain": [
       "-0.3998724072997095"
      ]
     },
     "execution_count": 78,
     "metadata": {},
     "output_type": "execute_result"
    }
   ],
   "source": [
    "w1"
   ]
  },
  {
   "cell_type": "code",
   "execution_count": 80,
   "metadata": {
    "scrolled": true
   },
   "outputs": [
    {
     "name": "stdout",
     "output_type": "stream",
     "text": [
      "[[5.47132031e+02]\n",
      " [4.75129612e+02]\n",
      " [3.77937874e+02]\n",
      " [3.57532860e+02]\n",
      " [3.08368057e+02]\n",
      " [2.15949975e+02]\n",
      " [1.64883955e+02]\n",
      " [1.30894943e+02]\n",
      " [9.74847678e+01]\n",
      " [6.93552958e+01]\n",
      " [1.15478899e+01]\n",
      " [4.32033264e+00]\n",
      " [1.87416566e-01]\n",
      " [8.76053388e-01]\n",
      " [6.06338144e+00]\n",
      " [1.81248150e+01]\n",
      " [3.20860349e+01]\n",
      " [5.19417784e+01]\n",
      " [7.80291946e+01]\n",
      " [1.08006426e+02]\n",
      " [1.44483959e+02]\n",
      " [1.87338930e+02]\n",
      " [2.33115069e+02]\n",
      " [2.82586930e+02]\n",
      " [3.39561382e+02]\n",
      " [3.96917890e+02]\n",
      " [4.64723310e+02]]\n"
     ]
    }
   ],
   "source": [
    "def compute_SSR(x, y, w0, w1): \n",
    "    return (y-predict(x, w0, w1)) * (y-predict(x, w0, w1))\n",
    "\n",
    "print(compute_SSR(x, y, w0, w1))"
   ]
  },
  {
   "cell_type": "markdown",
   "metadata": {},
   "source": [
    "It's obvious from the plot that the fit isn't very good. \n",
    "We must repeat the alternating parameter updates many times before the algorithm converges to the optimal weights."
   ]
  },
  {
   "cell_type": "code",
   "execution_count": 81,
   "metadata": {},
   "outputs": [
    {
     "name": "stdout",
     "output_type": "stream",
     "text": [
      "Iteration #0: SSR = [[5.35517194e+02]\n",
      " [4.64310223e+02]\n",
      " [3.68295064e+02]\n",
      " [3.48155677e+02]\n",
      " [2.99663884e+02]\n",
      " [2.08676149e+02]\n",
      " [1.58535940e+02]\n",
      " [1.25245726e+02]\n",
      " [9.26180723e+01]\n",
      " [6.52601195e+01]\n",
      " [9.91374182e+00]\n",
      " [3.34499175e+00]\n",
      " [3.36015381e-02]\n",
      " [1.40561503e+00]\n",
      " [7.35495791e+00]\n",
      " [2.03124540e+01]\n",
      " [3.49761383e+01]\n",
      " [5.56019813e+01]\n",
      " [8.25013006e+01]\n",
      " [1.13256914e+02]\n",
      " [1.50546941e+02]\n",
      " [1.94234126e+02]\n",
      " [2.40799491e+02]\n",
      " [2.91041254e+02]\n",
      " [3.48822877e+02]\n",
      " [4.06926019e+02]\n",
      " [4.75547484e+02]]\n",
      "Iteration #500: SSR = [[3.83984040e+02]\n",
      " [3.32600783e+02]\n",
      " [2.59716521e+02]\n",
      " [2.50236284e+02]\n",
      " [2.16265008e+02]\n",
      " [1.51566079e+02]\n",
      " [1.14317079e+02]\n",
      " [9.07704985e+01]\n",
      " [6.71593463e+01]\n",
      " [4.74011112e+01]\n",
      " [7.07956088e+00]\n",
      " [2.48468210e+00]\n",
      " [2.75173257e-02]\n",
      " [9.36616423e-01]\n",
      " [5.10301317e+00]\n",
      " [1.45824372e+01]\n",
      " [2.49061268e+01]\n",
      " [3.96647289e+01]\n",
      " [5.91226036e+01]\n",
      " [8.12360122e+01]\n",
      " [1.08272674e+02]\n",
      " [1.40119970e+02]\n",
      " [1.73789709e+02]\n",
      " [2.09958004e+02]\n",
      " [2.51906934e+02]\n",
      " [2.93504138e+02]\n",
      " [3.43412255e+02]]\n",
      "Iteration #1000: SSR = [[2.75185190e+02]\n",
      " [2.38085220e+02]\n",
      " [1.82462171e+02]\n",
      " [1.79840442e+02]\n",
      " [1.56175552e+02]\n",
      " [1.10275727e+02]\n",
      " [8.24716899e+01]\n",
      " [6.58743228e+01]\n",
      " [4.87691848e+01]\n",
      " [3.44889363e+01]\n",
      " [5.04915204e+00]\n",
      " [1.85516228e+00]\n",
      " [2.28336339e-02]\n",
      " [6.13239862e-01]\n",
      " [3.51496238e+00]\n",
      " [1.04656487e+01]\n",
      " [1.77030984e+01]\n",
      " [2.82537602e+01]\n",
      " [4.23421740e+01]\n",
      " [5.82412835e+01]\n",
      " [7.78707853e+01]\n",
      " [1.01138953e+02]\n",
      " [1.25507707e+02]\n",
      " [1.51549613e+02]\n",
      " [1.82053732e+02]\n",
      " [2.11808626e+02]\n",
      " [2.48175949e+02]]\n",
      "Iteration #1500: SSR = [[1.97091229e+02]\n",
      " [1.70286126e+02]\n",
      " [1.27607947e+02]\n",
      " [1.29234234e+02]\n",
      " [1.12865885e+02]\n",
      " [8.03952555e+01]\n",
      " [5.95313818e+01]\n",
      " [4.78824711e+01]\n",
      " [3.54746580e+01]\n",
      " [2.51446650e+01]\n",
      " [3.59557825e+00]\n",
      " [1.39325722e+00]\n",
      " [1.92039586e-02]\n",
      " [3.92471459e-01]\n",
      " [2.39956152e+00]\n",
      " [7.50838600e+00]\n",
      " [1.25559130e+01]\n",
      " [2.00901475e+01]\n",
      " [3.03018614e+01]\n",
      " [4.17325476e+01]\n",
      " [5.60067768e+01]\n",
      " [7.30505409e+01]\n",
      " [9.07074547e+01]\n",
      " [1.09462278e+02]\n",
      " [1.31685990e+02]\n",
      " [1.52948098e+02]\n",
      " [1.79507013e+02]]\n",
      "Iteration #2000: SSR = [[1.41055580e+02]\n",
      " [1.21673633e+02]\n",
      " [8.87555051e+01]\n",
      " [9.28565352e+01]\n",
      " [8.16377742e+01]\n",
      " [5.87483670e+01]\n",
      " [4.30009000e+01]\n",
      " [3.48690931e+01]\n",
      " [2.58550994e+01]\n",
      " [1.83750831e+01]\n",
      " [2.55582348e+00]\n",
      " [1.05328595e+00]\n",
      " [1.63719981e-02]\n",
      " [2.43700132e-01]\n",
      " [1.62000862e+00]\n",
      " [5.38447185e+00]\n",
      " [8.88215649e+00]\n",
      " [1.42553442e+01]\n",
      " [2.16661717e+01]\n",
      " [2.98838628e+01]\n",
      " [4.02827201e+01]\n",
      " [5.28037602e+01]\n",
      " [6.56142781e+01]\n",
      " [7.91245722e+01]\n",
      " [9.53510867e+01]\n",
      " [1.10525575e+02]\n",
      " [1.29970893e+02]]\n",
      "Iteration #2500: SSR = [[1.00863709e+02]\n",
      " [8.68367943e+01]\n",
      " [6.13198886e+01]\n",
      " [6.67086420e+01]\n",
      " [5.91103770e+01]\n",
      " [4.30465959e+01]\n",
      " [3.10849503e+01]\n",
      " [2.54472339e+01]\n",
      " [1.88872726e+01]\n",
      " [1.34645944e+01]\n",
      " [1.81281126e+00]\n",
      " [8.02185901e-01]\n",
      " [1.41473994e-02]\n",
      " [1.45185066e-01]\n",
      " [1.07854169e+00]\n",
      " [3.85942087e+00]\n",
      " [6.26375997e+00]\n",
      " [1.00897848e+01]\n",
      " [1.54753493e+01]\n",
      " [2.13827945e+01]\n",
      " [2.89741940e+01]\n",
      " [3.82033055e+01]\n",
      " [4.75119067e+01]\n",
      " [5.72471527e+01]\n",
      " [6.91248393e+01]\n",
      " [7.99383089e+01]\n",
      " [9.42170608e+01]]\n",
      "Iteration #3000: SSR = [[7.20494940e+01]\n",
      " [6.18878205e+01]\n",
      " [4.20177112e+01]\n",
      " [4.79153507e+01]\n",
      " [4.28505514e+01]\n",
      " [3.16405913e+01]\n",
      " [2.24917306e+01]\n",
      " [1.86177776e+01]\n",
      " [1.38339842e+01]\n",
      " [9.89744878e+00]\n",
      " [1.28247795e+00]\n",
      " [6.16000904e-01]\n",
      " [1.23881525e-02]\n",
      " [8.15228381e-02]\n",
      " [7.05379569e-01]\n",
      " [2.76467352e+00]\n",
      " [4.40072307e+00]\n",
      " [7.11999263e+00]\n",
      " [1.10397440e+01]\n",
      " [1.52860829e+01]\n",
      " [2.08411114e+01]\n",
      " [2.76693918e+01]\n",
      " [3.44454649e+01]\n",
      " [4.14629397e+01]\n",
      " [5.01826604e+01]\n",
      " [5.78742004e+01]\n",
      " [6.83942874e+01]]\n",
      "Iteration #3500: SSR = [[5.14036887e+01]\n",
      " [4.40337431e+01]\n",
      " [2.84994801e+01]\n",
      " [3.44093344e+01]\n",
      " [3.11069542e+01]\n",
      " [2.33411581e+01]\n",
      " [1.62916258e+01]\n",
      " [1.36607726e+01]\n",
      " [1.01639464e+01]\n",
      " [7.30178347e+00]\n",
      " [9.04480579e-01]\n",
      " [4.77350752e-01]\n",
      " [1.09877908e-02]\n",
      " [4.18322630e-02]\n",
      " [4.50783353e-01]\n",
      " [1.97906905e+00]\n",
      " [3.07785305e+00]\n",
      " [5.00618429e+00]\n",
      " [7.86386236e+00]\n",
      " [1.09158665e+01]\n",
      " [1.49916817e+01]\n",
      " [2.00650327e+01]\n",
      " [2.50078447e+01]\n",
      " [3.00683195e+01]\n",
      " [3.64911006e+01]\n",
      " [4.19496083e+01]\n",
      " [4.97300559e+01]]\n",
      "Iteration #4000: SSR = [[3.66205185e+01]\n",
      " [3.12684712e+01]\n",
      " [1.90855094e+01]\n",
      " [2.47041802e+01]\n",
      " [2.26187818e+01]\n",
      " [1.72904807e+01]\n",
      " [1.18155749e+01]\n",
      " [1.00572424e+01]\n",
      " [7.49411801e+00]\n",
      " [5.40935638e+00]\n",
      " [6.35517502e-01]\n",
      " [3.73607363e-01]\n",
      " [9.86606763e-03]\n",
      " [1.84544298e-02]\n",
      " [2.79359668e-01]\n",
      " [1.41552377e+00]\n",
      " [2.14086119e+00]\n",
      " [3.50461101e+00]\n",
      " [5.59176476e+00]\n",
      " [7.78506722e+00]\n",
      " [1.07845833e+01]\n",
      " [1.45718074e+01]\n",
      " [1.81860480e+01]\n",
      " [2.18370012e+01]\n",
      " [2.65859711e+01]\n",
      " [3.04488427e+01]\n",
      " [3.62280294e+01]]\n",
      "Iteration #4500: SSR = [[2.60435981e+01]\n",
      " [2.21514075e+01]\n",
      " [1.25762816e+01]\n",
      " [1.77311840e+01]\n",
      " [1.64781958e+01]\n",
      " [1.28694456e+01]\n",
      " [8.58197079e+00]\n",
      " [7.43292453e+00]\n",
      " [5.54821340e+00]\n",
      " [4.02656660e+00]\n",
      " [4.44527814e-01]\n",
      " [2.95579692e-01]\n",
      " [8.96215152e-03]\n",
      " [6.02239331e-03]\n",
      " [1.65974283e-01]\n",
      " [1.01145256e+00]\n",
      " [1.47918592e+00]\n",
      " [2.44049340e+00]\n",
      " [3.96780922e+00]\n",
      " [5.54374407e+00]\n",
      " [7.75861381e+00]\n",
      " [1.06005016e+01]\n",
      " [1.32506579e+01]\n",
      " [1.58861258e+01]\n",
      " [1.94127364e+01]\n",
      " [2.21367868e+01]\n",
      " [2.64504253e+01]]\n",
      "Iteration #5000: SSR = [[1.84832648e+01]\n",
      " [1.56483041e+01]\n",
      " [8.11630275e+00]\n",
      " [1.27219917e+01]\n",
      " [1.20313589e+01]\n",
      " [9.63093514e+00]\n",
      " [6.24407936e+00]\n",
      " [5.51778311e+00]\n",
      " [4.12684355e+00]\n",
      " [3.01359578e+00]\n",
      " [3.09241250e-01]\n",
      " [2.36565037e-01]\n",
      " [8.22964787e-03]\n",
      " [7.96010396e-04]\n",
      " [9.28221834e-02]\n",
      " [7.21881733e-01]\n",
      " [1.01365123e+00]\n",
      " [1.68857239e+00]\n",
      " [2.80843076e+00]\n",
      " [3.94052396e+00]\n",
      " [5.58209993e+00]\n",
      " [7.72682915e+00]\n",
      " [9.67632983e+00]\n",
      " [1.15799550e+01]\n",
      " [1.42116939e+01]\n",
      " [1.61241147e+01]\n",
      " [1.93614583e+01]]\n",
      "Iteration #5500: SSR = [[1.30852592e+01]\n",
      " [1.10168649e+01]\n",
      " [5.09639284e+00]\n",
      " [9.12421034e+00]\n",
      " [8.80724127e+00]\n",
      " [7.25180540e+00]\n",
      " [4.55221689e+00]\n",
      " [4.11686998e+00]\n",
      " [3.08602441e+00]\n",
      " [2.26939218e+00]\n",
      " [2.13698972e-01]\n",
      " [1.91664282e-01]\n",
      " [7.63294655e-03]\n",
      " [1.86861452e-04]\n",
      " [4.73279564e-02]\n",
      " [5.14497402e-01]\n",
      " [6.87600715e-01]\n",
      " [1.15913475e+00]\n",
      " [1.98185488e+00]\n",
      " [2.79487375e+00]\n",
      " [4.01651718e+00]\n",
      " [5.64519371e+00]\n",
      " [7.08459413e+00]\n",
      " [8.46059020e+00]\n",
      " [1.04353682e+01]\n",
      " [1.17703360e+01]\n",
      " [1.42147068e+01]]\n",
      "Iteration #6000: SSR = [[9.23632660e+00]\n",
      " [7.72452138e+00]\n",
      " [3.08358500e+00]\n",
      " [6.54072603e+00]\n",
      " [6.46640117e+00]\n",
      " [5.49830951e+00]\n",
      " [3.32654206e+00]\n",
      " [3.08934918e+00]\n",
      " [2.32170580e+00]\n",
      " [1.72085864e+00]\n",
      " [1.46472270e-01]\n",
      " [1.57287315e-01]\n",
      " [7.14453422e-03]\n",
      " [2.41937029e-03]\n",
      " [2.06421523e-02]\n",
      " [3.66085336e-01]\n",
      " [4.60529573e-01]\n",
      " [7.87973668e-01]\n",
      " [1.39351538e+00]\n",
      " [1.97716695e+00]\n",
      " [2.89032769e+00]\n",
      " [4.13542410e+00]\n",
      " [5.20270513e+00]\n",
      " [6.19813025e+00]\n",
      " [7.68907622e+00]\n",
      " [8.61404823e+00]\n",
      " [1.04720741e+01]]\n",
      "Iteration #6500: SSR = [[6.49636156e+00]\n",
      " [5.38933597e+00]\n",
      " [1.77085414e+00]\n",
      " [4.68607009e+00]\n",
      " [4.76413282e+00]\n",
      " [4.20119535e+00]\n",
      " [2.43748231e+00]\n",
      " [2.33339589e+00]\n",
      " [1.75863188e+00]\n",
      " [1.31506582e+00]\n",
      " [9.93828901e-02]\n",
      " [1.30795548e-01]\n",
      " [6.74300969e-03]\n",
      " [6.28944810e-03]\n",
      " [6.56527144e-03]\n",
      " [2.59971489e-01]\n",
      " [3.03511702e-01]\n",
      " [5.29177707e-01]\n",
      " [9.75573555e-01]\n",
      " [1.39435469e+00]\n",
      " [2.08016640e+00]\n",
      " [3.03884239e+00]\n",
      " [3.83403347e+00]\n",
      " [4.55481337e+00]\n",
      " [5.68815981e+00]\n",
      " [6.32275752e+00]\n",
      " [7.74547570e+00]]\n",
      "Iteration #7000: SSR = [[4.54963687e+00]\n",
      " [3.73753427e+00]\n",
      " [9.41083895e-01]\n",
      " [3.35504411e+00]\n",
      " [3.52394883e+00]\n",
      " [3.23776645e+00]\n",
      " [1.79165149e+00]\n",
      " [1.77532193e+00]\n",
      " [1.34231895e+00]\n",
      " [1.01364268e+00]\n",
      " [6.65839006e-02]\n",
      " [1.10243291e-01]\n",
      " [6.41161275e-03]\n",
      " [1.09929128e-02]\n",
      " [7.78464426e-04]\n",
      " [1.84181971e-01]\n",
      " [1.95916804e-01]\n",
      " [3.49952251e-01]\n",
      " [6.79385657e-01]\n",
      " [9.79666238e-01]\n",
      " [1.49731149e+00]\n",
      " [2.24104446e+00]\n",
      " [2.83676118e+00]\n",
      " [3.35921620e+00]\n",
      " [4.22720833e+00]\n",
      " [4.65677547e+00]\n",
      " [5.75487503e+00]]\n",
      "Iteration #7500: SSR = [[3.16975211e+00]\n",
      " [2.57298933e+00]\n",
      " [4.41254826e-01]\n",
      " [2.40016005e+00]\n",
      " [2.61849715e+00]\n",
      " [2.51895487e+00]\n",
      " [1.32171732e+00]\n",
      " [1.36174325e+00]\n",
      " [1.03327642e+00]\n",
      " [7.88734188e-01]\n",
      " [4.38996670e-02]\n",
      " [9.41904627e-02]\n",
      " [6.13712885e-03]\n",
      " [1.60037835e-02]\n",
      " [2.94111525e-04]\n",
      " [1.30120309e-01]\n",
      " [1.23054237e-01]\n",
      " [2.26901612e-01]\n",
      " [4.70090060e-01]\n",
      " [6.85206180e-01]\n",
      " [1.07795481e+00]\n",
      " [1.65950917e+00]\n",
      " [2.10854966e+00]\n",
      " [2.48768801e+00]\n",
      " [3.15790695e+00]\n",
      " [3.44324064e+00]\n",
      " [4.29808015e+00]]\n",
      "Iteration #8000: SSR = [[2.19444522e+00]\n",
      " [1.75529789e+00]\n",
      " [1.63967468e-01]\n",
      " [1.71541915e+00]\n",
      " [1.95582608e+00]\n",
      " [1.98000236e+00]\n",
      " [9.79110146e-01]\n",
      " [1.05393659e+00]\n",
      " [8.02842761e-01]\n",
      " [6.20087355e-01]\n",
      " [2.83520030e-02]\n",
      " [8.15667879e-02]\n",
      " [5.90906980e-03]\n",
      " [2.09881862e-02]\n",
      " [3.06394499e-03]\n",
      " [9.16166359e-02]\n",
      " [7.44826261e-02]\n",
      " [1.43360519e-01]\n",
      " [3.22717989e-01]\n",
      " [4.76634365e-01]\n",
      " [7.76205096e-01]\n",
      " [1.23468119e+00]\n",
      " [1.57550446e+00]\n",
      " [1.85098951e+00]\n",
      " [2.37309063e+00]\n",
      " [2.55742351e+00]\n",
      " [3.22900201e+00]]\n"
     ]
    },
    {
     "name": "stdout",
     "output_type": "stream",
     "text": [
      "Iteration #8500: SSR = [[1.50749403]\n",
      " [1.18403199]\n",
      " [0.03422724]\n",
      " [1.22464876]\n",
      " [1.46949721]\n",
      " [1.57373976]\n",
      " [0.72877557]\n",
      " [0.82377228]\n",
      " [0.63018372]\n",
      " [0.49294966]\n",
      " [0.01782009]\n",
      " [0.0715732 ]\n",
      " [0.00571906]\n",
      " [0.02574365]\n",
      " [0.00769997]\n",
      " [0.06424427]\n",
      " [0.04279763]\n",
      " [0.08747949]\n",
      " [0.21939946]\n",
      " [0.32934289]\n",
      " [0.55905627]\n",
      " [0.92355255]\n",
      " [1.18423155]\n",
      " [1.3846758 ]\n",
      " [1.7952632 ]\n",
      " [1.90927113]\n",
      " [2.44200077]]\n",
      "Iteration #9000: SSR = [[1.02571395e+00]\n",
      " [7.87428695e-01]\n",
      " [2.21990358e-06]\n",
      " [8.73116579e-01]\n",
      " [1.11146699e+00]\n",
      " [1.26573778e+00]\n",
      " [5.45397568e-01]\n",
      " [6.50781712e-01]\n",
      " [5.00127720e-01]\n",
      " [3.96552662e-01]\n",
      " [1.07964867e-02]\n",
      " [6.36101246e-02]\n",
      " [5.56035941e-03]\n",
      " [3.01564788e-02]\n",
      " [1.32761061e-02]\n",
      " [4.48285185e-02]\n",
      " [2.27630392e-02]\n",
      " [5.08516588e-02]\n",
      " [1.47356328e-01]\n",
      " [2.25709287e-01]\n",
      " [4.02768898e-01]\n",
      " [6.95042287e-01]\n",
      " [8.96117846e-01]\n",
      " [1.04217330e+00]\n",
      " [1.36832950e+00]\n",
      " [1.43372140e+00]\n",
      " [1.86061318e+00]]\n",
      "Iteration #9500: SSR = [[0.68961855]\n",
      " [0.51426914]\n",
      " [0.02548483]\n",
      " [0.62150167]\n",
      " [0.84696034]\n",
      " [1.03080594]\n",
      " [0.41067953]\n",
      " [0.52004192]\n",
      " [0.4016041 ]\n",
      " [0.32301723]\n",
      " [0.00621216]\n",
      " [0.05722525]\n",
      " [0.00542753]\n",
      " [0.03417197]\n",
      " [0.01918747]\n",
      " [0.03109374]\n",
      " [0.01068836]\n",
      " [0.02752844]\n",
      " [0.09746109]\n",
      " [0.15312326]\n",
      " [0.29026803]\n",
      " [0.52666958]\n",
      " [0.68321243]\n",
      " [0.78979497]\n",
      " [1.05163986]\n",
      " [1.08372967]\n",
      " [1.42943266]]\n",
      "Final estimates: w0 = 56.89456037769841; w1 = -0.027293057729518334\n"
     ]
    }
   ],
   "source": [
    "for i in np.arange(10000):\n",
    "    w1 = update_w1(x, y, w0) \n",
    "    w0 = update_w0(x, y, w1) \n",
    "    if i % 500 == 0:\n",
    "        print(\"Iteration #{}: SSR = {}\".format(i, compute_SSR(x, y, w0, w1)))\n",
    "print(\"Final estimates: w0 = {}; w1 = {}\".format(w0, w1))"
   ]
  },
  {
   "cell_type": "markdown",
   "metadata": {},
   "source": [
    "Let's try plotting the result again."
   ]
  },
  {
   "cell_type": "code",
   "execution_count": 82,
   "metadata": {},
   "outputs": [
    {
     "data": {
      "image/png": "[encoded data removed]",
      "text/plain": [
       "<Figure size 432x288 with 1 Axes>"
      ]
     },
     "metadata": {},
     "output_type": "display_data"
    }
   ],
   "source": [
    "plot_fit(x_test, predict(x_test, w0, w1), x, y)"
   ]
  },
  {
   "cell_type": "markdown",
   "metadata": {},
   "source": [
    "Does more than 10 iterations considerably improve fit in this case?"
   ]
  },
  {
   "cell_type": "markdown",
   "metadata": {},
   "source": [
    "### 4. Linear algebra solution"
   ]
  },
  {
   "cell_type": "markdown",
   "metadata": {},
   "source": [
    "In lectures, we saw that it's possible to solve for the optimal weights $\\mathbf{w}^\\star$ analytically. The solution is\n",
    "$$\\mathbf{w}^* = \\left[\\mathbf{X}^\\top \\mathbf{X}\\right]^{-1} \\mathbf{X}^\\top \\mathbf{y}$$\n",
    "where\n",
    "$$\\mathbf{X} = \\begin{pmatrix} \n",
    "        1 & x_1 \\\\ 1 & x_2 \\\\ \\vdots & \\vdots \\\\ 1 & x_n \n",
    "    \\end{pmatrix} \n",
    "  \\quad \\text{and} \\quad \n",
    "  \\mathbf{y} = \\begin{pmatrix} \n",
    "          y_1 \\\\ y_2 \\\\ \\vdots \\\\ y_n\n",
    "      \\end{pmatrix}\n",
    "$$\n",
    "\n",
    "We construct $\\mathbf{X}$ in the code block below, remembering to include the $x_0 = 1$ column for the bias (intercept)."
   ]
  },
  {
   "cell_type": "code",
   "execution_count": 83,
   "metadata": {},
   "outputs": [
    {
     "name": "stdout",
     "output_type": "stream",
     "text": [
      "[[1.000e+00 1.896e+03]\n",
      " [1.000e+00 1.900e+03]\n",
      " [1.000e+00 1.904e+03]\n",
      " [1.000e+00 1.908e+03]\n",
      " [1.000e+00 1.912e+03]\n",
      " [1.000e+00 1.920e+03]\n",
      " [1.000e+00 1.924e+03]\n",
      " [1.000e+00 1.928e+03]\n",
      " [1.000e+00 1.932e+03]\n",
      " [1.000e+00 1.936e+03]\n",
      " [1.000e+00 1.948e+03]\n",
      " [1.000e+00 1.952e+03]\n",
      " [1.000e+00 1.956e+03]\n",
      " [1.000e+00 1.960e+03]\n",
      " [1.000e+00 1.964e+03]\n",
      " [1.000e+00 1.968e+03]\n",
      " [1.000e+00 1.972e+03]\n",
      " [1.000e+00 1.976e+03]\n",
      " [1.000e+00 1.980e+03]\n",
      " [1.000e+00 1.984e+03]\n",
      " [1.000e+00 1.988e+03]\n",
      " [1.000e+00 1.992e+03]\n",
      " [1.000e+00 1.996e+03]\n",
      " [1.000e+00 2.000e+03]\n",
      " [1.000e+00 2.004e+03]\n",
      " [1.000e+00 2.008e+03]\n",
      " [1.000e+00 2.012e+03]]\n"
     ]
    }
   ],
   "source": [
    "X = np.hstack((np.ones_like(x), x))\n",
    "print(X)"
   ]
  },
  {
   "cell_type": "markdown",
   "metadata": {},
   "source": [
    "Although we can express $\\mathbf{w}^\\star$ explicitly in terms of the matrix inverse $(\\mathbf{X}^\\top \\mathbf{X})^{-1}$, this isn't an efficient way to compute $\\mathbf{w}$ numerically. It is better instead to solve the following system of linear equations:\n",
    "$$\\mathbf{X}^\\top\\mathbf{X} \\mathbf{w}^\\star = \\mathbf{X}^\\top\\mathbf{y}$$\n",
    "\n",
    "This can be done in numpy using the command"
   ]
  },
  {
   "cell_type": "code",
   "execution_count": 85,
   "metadata": {},
   "outputs": [],
   "source": [
    "np.linalg.solve?"
   ]
  },
  {
   "cell_type": "markdown",
   "metadata": {},
   "source": [
    "which gives"
   ]
  },
  {
   "cell_type": "code",
   "execution_count": null,
   "metadata": {},
   "outputs": [],
   "source": [
    "w = ... # fill in\n",
    "print(w)"
   ]
  },
  {
   "cell_type": "markdown",
   "metadata": {},
   "source": [
    "Plotting this solution, as before:"
   ]
  },
  {
   "cell_type": "code",
   "execution_count": null,
   "metadata": {},
   "outputs": [],
   "source": [
    "w0, w1 = w\n",
    "plot_fit(x_test, predict(x_test, w0, w1), x, y)"
   ]
  },
  {
   "cell_type": "markdown",
   "metadata": {},
   "source": [
    "You should verify that the sum of squared residuals $SSR(w_0, w_1)$, match or beats the earlier iterative result."
   ]
  },
  {
   "cell_type": "code",
   "execution_count": 86,
   "metadata": {},
   "outputs": [
    {
     "name": "stdout",
     "output_type": "stream",
     "text": [
      "[[0.45709713]\n",
      " [0.32835356]\n",
      " [0.08614511]\n",
      " [0.44186272]\n",
      " [0.65111545]\n",
      " [0.85077908]\n",
      " [0.31155658]\n",
      " [0.42082208]\n",
      " [0.32664664]\n",
      " [0.26666142]\n",
      " [0.00331555]\n",
      " [0.05208463]\n",
      " [0.00531636]\n",
      " [0.03776693]\n",
      " [0.02503938]\n",
      " [0.02142584]\n",
      " [0.0039926 ]\n",
      " [0.01333575]\n",
      " [0.06325836]\n",
      " [0.10265312]\n",
      " [0.20940863]\n",
      " [0.40237157]\n",
      " [0.52553117]\n",
      " [0.60347067]\n",
      " [0.81610555]\n",
      " [0.82569038]\n",
      " [1.10881225]]\n"
     ]
    }
   ],
   "source": [
    "print(compute_SSR(x, y, w0, w1))"
   ]
  },
  {
   "cell_type": "markdown",
   "metadata": {},
   "source": [
    "**Note:** The error we computed above is the *training* error. It doesn't assess the model's generalization ability, it only assesses how well it's performing on the given training data. In later worksheets we'll assess the generalization ability of models using held-out evaluation data."
   ]
  },
  {
   "cell_type": "markdown",
   "metadata": {},
   "source": [
    "### 5. Solving using scikit-learn"
   ]
  },
  {
   "cell_type": "markdown",
   "metadata": {},
   "source": [
    "Now that you have a good understanding of what's going on under the hood, you can use the functionality in `sklearn` to solve linear regression problems you encounter in the future. Using the `LinearRegression` module, fitting a linear regression model becomes a one-liner as shown below."
   ]
  },
  {
   "cell_type": "code",
   "execution_count": 87,
   "metadata": {},
   "outputs": [],
   "source": [
    "from sklearn.linear_model import LinearRegression\n",
    "lr = LinearRegression().fit(x, y)"
   ]
  },
  {
   "cell_type": "markdown",
   "metadata": {},
   "source": [
    "The `LinearRegression` module provides access to the bias weight $w_0$ under the `intercept_` property"
   ]
  },
  {
   "cell_type": "code",
   "execution_count": 88,
   "metadata": {},
   "outputs": [
    {
     "data": {
      "text/plain": [
       "array([28.89524574])"
      ]
     },
     "execution_count": 88,
     "metadata": {},
     "output_type": "execute_result"
    }
   ],
   "source": [
    "lr.intercept_"
   ]
  },
  {
   "cell_type": "markdown",
   "metadata": {},
   "source": [
    "and the non-bias weights under the `coef_` property"
   ]
  },
  {
   "cell_type": "code",
   "execution_count": 89,
   "metadata": {},
   "outputs": [
    {
     "data": {
      "text/plain": [
       "array([[-0.01298065]])"
      ]
     },
     "execution_count": 89,
     "metadata": {},
     "output_type": "execute_result"
    }
   ],
   "source": [
    "lr.coef_"
   ]
  },
  {
   "cell_type": "markdown",
   "metadata": {},
   "source": [
    "You should check that these results match the solution you obtained previously. Note that sklearn also uses a numerical linear algebra solver under the hood."
   ]
  }
 ],
 "metadata": {
  "kernelspec": {
   "display_name": "Python 3",
   "language": "python",
   "name": "python3"
  },
  "language_info": {
   "codemirror_mode": {
    "name": "ipython",
    "version": 3
   },
   "file_extension": ".py",
   "mimetype": "text/x-python",
   "name": "python",
   "nbconvert_exporter": "python",
   "pygments_lexer": "ipython3",
   "version": "3.6.5"
  }
 },
 "nbformat": 4,
 "nbformat_minor": 2
}
