{
 "cells": [
  {
   "cell_type": "markdown",
   "metadata": {},
   "source": [
    "# COMP90051 Workshop 2\n",
    "## Part A: Linear regression\n",
    "\n",
    "***\n",
    "\n",
    "Our aim for this part of the workshop is to fit a linear model from scratch—relying only on the `numpy` library. We'll experiment with two implementations: one based on iterative updates (coordinate descent) and another based on linear algebra. Finally, to check the correctness of our implementation, we'll compare its output to the output of `sklearn`.\n",
    "\n",
    "Firstly we will import the relevant libraries (`numpy`, `matplotlib`, etc.)."
   ]
  },
  {
   "cell_type": "code",
   "execution_count": 1,
   "metadata": {
    "collapsed": true
   },
   "outputs": [],
   "source": [
    "%matplotlib inline\n",
    "import numpy as np\n",
    "import matplotlib.pyplot as plt\n",
    "import io"
   ]
  },
  {
   "cell_type": "markdown",
   "metadata": {},
   "source": [
    "To check what a command does simply type `object?`. For example:"
   ]
  },
  {
   "cell_type": "code",
   "execution_count": 2,
   "metadata": {
    "collapsed": true
   },
   "outputs": [],
   "source": [
    "np.arange?"
   ]
  },
  {
   "cell_type": "markdown",
   "metadata": {},
   "source": [
    "### 1. Review\n",
    "In lectures, we saw that a linear model can be expressed as:\n",
    "$$y = w_0 + \\sum_{j = 1}^{m} w_j x_j = \\mathbf{w} \\cdot \\mathbf{x} $$\n",
    "where \n",
    "\n",
    "* $y$ is the *target variable*;\n",
    "* $\\mathbf{x} = [x_1, \\ldots, x_m]$ is a vector of *features* (we define $x_0 = 1$); and\n",
    "* $\\mathbf{w} = [w_0, \\ldots, w_m]$ are the *weights*.\n",
    "\n",
    "To fit the model, we *minimise* the empirical risk with respect to $\\vec{w}$. In this simplest case (square loss), this amounts to minimising the sum of squared residuals:\n",
    "\n",
    "$$SSR(\\mathbf{w}) = \\sum_{i=1}^{n}(y_i - \\mathbf{w} \\cdot \\mathbf{x}_i)^2$$\n",
    "\n",
    "**Note:** For simplicity, we'll consider the case $m = 1$ (i.e. only one feature excluding the intercept)."
   ]
  },
  {
   "cell_type": "markdown",
   "metadata": {},
   "source": [
    "### 2. Data set\n",
    "We'll be working with some data from the Olympics—the gold medal race times for marathon winners from 1896 to 2012. The code block below reads the data into a numpy array of floats, and prints the result."
   ]
  },
  {
   "cell_type": "code",
   "execution_count": 3,
   "metadata": {
    "collapsed": false
   },
   "outputs": [
    {
     "name": "stdout",
     "output_type": "stream",
     "text": [
      "[[ 1896.             4.47083333]\n",
      " [ 1900.             4.46472926]\n",
      " [ 1904.             5.22208333]\n",
      " [ 1908.             4.15467867]\n",
      " [ 1912.             3.90331675]\n",
      " [ 1920.             3.56951267]\n",
      " [ 1924.             3.82454477]\n",
      " [ 1928.             3.62483707]\n",
      " [ 1932.             3.59284275]\n",
      " [ 1936.             3.53880792]\n",
      " [ 1948.             3.67010309]\n",
      " [ 1952.             3.39029111]\n",
      " [ 1956.             3.43642612]\n",
      " [ 1960.             3.20583007]\n",
      " [ 1964.             3.13275665]\n",
      " [ 1968.             3.32819844]\n",
      " [ 1972.             3.13583758]\n",
      " [ 1976.             3.0789588 ]\n",
      " [ 1980.             3.10581822]\n",
      " [ 1984.             3.06552909]\n",
      " [ 1988.             3.09357349]\n",
      " [ 1992.             3.16111704]\n",
      " [ 1996.             3.14255244]\n",
      " [ 2000.             3.08527867]\n",
      " [ 2004.             3.10265829]\n",
      " [ 2008.             2.99877553]\n",
      " [ 2012.             3.03392977]]\n"
     ]
    }
   ],
   "source": [
    "# CSV file with variables YEAR,TIME\n",
    "csv = \"\"\"1896,4.47083333333333\n",
    "1900,4.46472925981123\n",
    "1904,5.22208333333333\n",
    "1908,4.1546786744085\n",
    "1912,3.90331674958541\n",
    "1920,3.5695126705653\n",
    "1924,3.8245447722874\n",
    "1928,3.62483706600308\n",
    "1932,3.59284275388079\n",
    "1936,3.53880791562981\n",
    "1948,3.6701030927835\n",
    "1952,3.39029110874116\n",
    "1956,3.43642611683849\n",
    "1960,3.2058300746534\n",
    "1964,3.13275664573212\n",
    "1968,3.32819844373346\n",
    "1972,3.13583757949204\n",
    "1976,3.07895880238575\n",
    "1980,3.10581822490816\n",
    "1984,3.06552909112454\n",
    "1988,3.09357348817\n",
    "1992,3.16111703598373\n",
    "1996,3.14255243512264\n",
    "2000,3.08527866650867\n",
    "2004,3.1026582928467\n",
    "2008,2.99877552632618\n",
    "2012,3.03392977050993\"\"\"\n",
    "\n",
    "# Read into a numpy array (as floats)\n",
    "olympics = np.genfromtxt(io.BytesIO(csv.encode()), delimiter=\",\")\n",
    "print(olympics)"
   ]
  },
  {
   "cell_type": "markdown",
   "metadata": {},
   "source": [
    "We'll take the race time as the *target variable* $y$ and the year of the race as the only non-trivial *feature* $x = x_1$."
   ]
  },
  {
   "cell_type": "code",
   "execution_count": 4,
   "metadata": {
    "collapsed": true
   },
   "outputs": [],
   "source": [
    "x = olympics[:, 0:1]\n",
    "y = olympics[:, 1:2]"
   ]
  },
  {
   "cell_type": "code",
   "execution_count": 5,
   "metadata": {
    "collapsed": true
   },
   "outputs": [],
   "source": [
    "olympics?"
   ]
  },
  {
   "cell_type": "markdown",
   "metadata": {},
   "source": [
    "Plotting $y$ vs $x$, we see that a linear model could be a decent fit for this data."
   ]
  },
  {
   "cell_type": "code",
   "execution_count": 6,
   "metadata": {
    "collapsed": false,
    "scrolled": true
   },
   "outputs": [
    {
     "data": {
      "image/png": "[encoded data removed]",
      "text/plain": [
       "<matplotlib.figure.Figure at 0x7b82ac8>"
      ]
     },
     "metadata": {},
     "output_type": "display_data"
    }
   ],
   "source": [
    "plt.plot(x, y, 'rx')\n",
    "plt.ylabel(\"y (Race time)\")\n",
    "plt.xlabel(\"x (Year of race)\")\n",
    "plt.show()"
   ]
  },
  {
   "cell_type": "markdown",
   "metadata": {},
   "source": [
    "### 3. Iterative solution (coordinate descent)"
   ]
  },
  {
   "cell_type": "markdown",
   "metadata": {},
   "source": [
    "Expanding out the sum of square residuals for this simple case (where $\\mathbf{w}=[w_0, w_1]$) we have:\n",
    "$$SSR(w_0, w_1) = \\sum_{i=1}^{n}(y_i - w_0 - w_1 x_i)^2$$\n",
    "Let's start with an initial guess for the slope $w_1$ (which is clearly negative from the plot)."
   ]
  },
  {
   "cell_type": "code",
   "execution_count": 7,
   "metadata": {
    "collapsed": true
   },
   "outputs": [],
   "source": [
    "w1 = -0.4"
   ]
  },
  {
   "cell_type": "markdown",
   "metadata": {},
   "source": [
    "Then using the maximum likelihood update, we get the following estimate for the intercept $w_0$:\n",
    "$$w_0 = \\frac{\\sum_{i=1}^{n}(y_i-w_1 x_i)}{n}$$"
   ]
  },
  {
   "cell_type": "code",
   "execution_count": 8,
   "metadata": {
    "collapsed": false
   },
   "outputs": [
    {
     "name": "stdout",
     "output_type": "stream",
     "text": [
      "786.019771145\n"
     ]
    }
   ],
   "source": [
    "print(np.sum(y-w1*x)/y.size)"
   ]
  },
  {
   "cell_type": "code",
   "execution_count": 10,
   "metadata": {
    "collapsed": false
   },
   "outputs": [
    {
     "name": "stdout",
     "output_type": "stream",
     "text": [
      "786.019771145\n"
     ]
    }
   ],
   "source": [
    "def update_w0(x, y, w1):\n",
    "    return np.sum(y-w1*x)/y.size\n",
    "# y-w1*x/y.size.mean()\n",
    "w0 = update_w0(x, y, w1)\n",
    "print(w0)"
   ]
  },
  {
   "cell_type": "markdown",
   "metadata": {},
   "source": [
    "Similarly, we can update $w_1$ based on this new estimate of $w_0$:\n",
    "$$w_1 = \\frac{\\sum_{i=1}^{n} (y_i - w_0) \\times x_i}{\\sum_{i=1}^{n} x_i^2}$$"
   ]
  },
  {
   "cell_type": "code",
   "execution_count": 53,
   "metadata": {
    "collapsed": false
   },
   "outputs": [
    {
     "name": "stdout",
     "output_type": "stream",
     "text": [
      "[[3594816.]\n",
      " [3610000.]\n",
      " [3625216.]\n",
      " [3640464.]\n",
      " [3655744.]\n",
      " [3686400.]\n",
      " [3701776.]\n",
      " [3717184.]\n",
      " [3732624.]\n",
      " [3748096.]\n",
      " [3794704.]\n",
      " [3810304.]\n",
      " [3825936.]\n",
      " [3841600.]\n",
      " [3857296.]\n",
      " [3873024.]\n",
      " [3888784.]\n",
      " [3904576.]\n",
      " [3920400.]\n",
      " [3936256.]\n",
      " [3952144.]\n",
      " [3968064.]\n",
      " [3984016.]\n",
      " [4000000.]\n",
      " [4016016.]\n",
      " [4032064.]\n",
      " [4048144.]]\n"
     ]
    }
   ],
   "source": [
    "print(x*x)"
   ]
  },
  {
   "cell_type": "code",
   "execution_count": 55,
   "metadata": {
    "collapsed": false
   },
   "outputs": [
    {
     "name": "stdout",
     "output_type": "stream",
     "text": [
      "-0.3998724072997095\n"
     ]
    }
   ],
   "source": [
    "print(np.sum((y-w0)*x)/np.sum((x*x)))"
   ]
  },
  {
   "cell_type": "code",
   "execution_count": 11,
   "metadata": {
    "collapsed": false
   },
   "outputs": [
    {
     "name": "stdout",
     "output_type": "stream",
     "text": [
      "-0.3998724073\n"
     ]
    }
   ],
   "source": [
    "def update_w1(x, y, w0):\n",
    "    return np.sum((y-w0)*x)/np.sum((x*x))\n",
    "# ((y-w0)*x).sum()/(x**2).sum()\n",
    "w1 = update_w1(x, y, w0)\n",
    "print(w1)"
   ]
  },
  {
   "cell_type": "markdown",
   "metadata": {},
   "source": [
    "Let's examine the quality of fit for these values for the weights $w_0$ and $w_1$. We create a vector of \"test\" values `x_test` and a function to compute the predictions according to the model."
   ]
  },
  {
   "cell_type": "code",
   "execution_count": 73,
   "metadata": {
    "collapsed": false
   },
   "outputs": [
    {
     "name": "stdout",
     "output_type": "stream",
     "text": [
      "[1896 1900 1904 1908 1912 1916 1920 1924 1928 1932 1936 1940 1944 1948\n",
      " 1952 1956 1960 1964 1968 1972 1976 1980 1984 1988 1992 1996 2000 2004\n",
      " 2008 2012]\n"
     ]
    }
   ],
   "source": [
    "print(np.arange(1896, 2016)[0::4])"
   ]
  },
  {
   "cell_type": "code",
   "execution_count": 12,
   "metadata": {
    "collapsed": true
   },
   "outputs": [],
   "source": [
    "x_test = np.arange(1890, 2020)[:, None]\n",
    "\n",
    "def predict(x_test, w0, w1): \n",
    "    return w0 + w1*x_test"
   ]
  },
  {
   "cell_type": "markdown",
   "metadata": {},
   "source": [
    "Now plot the test predictions with a blue line on the same plot as the data."
   ]
  },
  {
   "cell_type": "code",
   "execution_count": 59,
   "metadata": {
    "collapsed": false
   },
   "outputs": [
    {
     "name": "stdout",
     "output_type": "stream",
     "text": [
      "786.0197711453593\n",
      "-0.3998724072997095\n"
     ]
    }
   ],
   "source": [
    "print(w0)\n",
    "print(w1)"
   ]
  },
  {
   "cell_type": "code",
   "execution_count": 13,
   "metadata": {
    "collapsed": false
   },
   "outputs": [
    {
     "data": {
      "image/png": "[encoded data removed]",
      "text/plain": [
       "<matplotlib.figure.Figure at 0x7fa2be0>"
      ]
     },
     "metadata": {},
     "output_type": "display_data"
    }
   ],
   "source": [
    "def plot_fit(x_test, y_test, x, y): \n",
    "    plt.plot(x_test, y_test, 'b-')\n",
    "    plt.plot(x, y, 'rx')\n",
    "    plt.ylabel(\"y (Race time)\")\n",
    "    plt.xlabel(\"x (Year of race)\")\n",
    "    plt.show()\n",
    "\n",
    "plot_fit(x_test, predict(x_test, w0, w1), x, y)"
   ]
  },
  {
   "cell_type": "markdown",
   "metadata": {},
   "source": [
    "We'll compute the sum of square residuals $SSR(w_0,w_1)$ on the training set to measure the goodness of fit."
   ]
  },
  {
   "cell_type": "code",
   "execution_count": 78,
   "metadata": {
    "collapsed": false
   },
   "outputs": [
    {
     "data": {
      "text/plain": [
       "-0.3998724072997095"
      ]
     },
     "execution_count": 78,
     "metadata": {},
     "output_type": "execute_result"
    }
   ],
   "source": [
    "w1"
   ]
  },
  {
   "cell_type": "code",
   "execution_count": 21,
   "metadata": {
    "collapsed": false,
    "scrolled": true
   },
   "outputs": [
    {
     "name": "stdout",
     "output_type": "stream",
     "text": [
      "8.96061852041\n"
     ]
    }
   ],
   "source": [
    "def compute_SSR(x, y, w0, w1): \n",
    "    return ((y-w0-w1*x)**2).sum()\n",
    "\n",
    "print(compute_SSR(x, y, w0, w1))"
   ]
  },
  {
   "cell_type": "markdown",
   "metadata": {},
   "source": [
    "It's obvious from the plot that the fit isn't very good. \n",
    "We must repeat the alternating parameter updates many times before the algorithm converges to the optimal weights."
   ]
  },
  {
   "cell_type": "code",
   "execution_count": 23,
   "metadata": {
    "collapsed": false
   },
   "outputs": [
    {
     "name": "stdout",
     "output_type": "stream",
     "text": [
      "Iteration #0: SSR = 1.9895242150605608\n",
      "Iteration #500: SSR = 1.9868444414898503\n",
      "Iteration #1000: SSR = 1.9849173776233675\n",
      "Iteration #1500: SSR = 1.9835315981731556\n",
      "Iteration #2000: SSR = 1.982535064162\n",
      "Iteration #2500: SSR = 1.9818184421661744\n",
      "Iteration #3000: SSR = 1.9813031089420576\n",
      "Iteration #3500: SSR = 1.980932525379977\n",
      "Iteration #4000: SSR = 1.9806660333898367\n",
      "Iteration #4500: SSR = 1.9804743951519896\n",
      "Iteration #5000: SSR = 1.9803365853281987\n",
      "Iteration #5500: SSR = 1.9802374842941484\n",
      "Iteration #6000: SSR = 1.980166219309699\n",
      "Iteration #6500: SSR = 1.9801149716304212\n",
      "Iteration #7000: SSR = 1.9800781186843117\n",
      "Iteration #7500: SSR = 1.980051617198672\n",
      "Iteration #8000: SSR = 1.9800325595977046\n",
      "Iteration #8500: SSR = 1.9800188550016922\n",
      "Iteration #9000: SSR = 1.9800089998288217\n",
      "Iteration #9500: SSR = 1.9800019128317168\n",
      "Iteration #10000: SSR = 1.9799968164697705\n",
      "Iteration #10500: SSR = 1.9799931516023144\n",
      "Iteration #11000: SSR = 1.9799905161432116\n",
      "Iteration #11500: SSR = 1.9799886209465225\n",
      "Iteration #12000: SSR = 1.9799872580832123\n",
      "Iteration #12500: SSR = 1.9799862780285389\n",
      "Iteration #13000: SSR = 1.9799855732570673\n",
      "Iteration #13500: SSR = 1.9799850664457284\n",
      "Iteration #14000: SSR = 1.9799847019903674\n",
      "Iteration #14500: SSR = 1.9799844399052602\n",
      "Iteration #15000: SSR = 1.9799842514360777\n",
      "Iteration #15500: SSR = 1.9799841159051697\n",
      "Iteration #16000: SSR = 1.9799840184429327\n",
      "Iteration #16500: SSR = 1.979983948356434\n",
      "Iteration #17000: SSR = 1.9799838979562212\n",
      "Iteration #17500: SSR = 1.9799838617126977\n",
      "Iteration #18000: SSR = 1.979983835649451\n",
      "Iteration #18500: SSR = 1.9799838169069996\n",
      "Iteration #19000: SSR = 1.9799838034290422\n",
      "Iteration #19500: SSR = 1.9799837937368334\n",
      "Iteration #20000: SSR = 1.9799837867670345\n",
      "Iteration #20500: SSR = 1.9799837817549484\n",
      "Iteration #21000: SSR = 1.9799837781506777\n",
      "Iteration #21500: SSR = 1.9799837755588052\n",
      "Iteration #22000: SSR = 1.9799837736949568\n",
      "Iteration #22500: SSR = 1.9799837723546199\n",
      "Iteration #23000: SSR = 1.9799837713907757\n",
      "Iteration #23500: SSR = 1.9799837706976624\n",
      "Iteration #24000: SSR = 1.9799837701992338\n",
      "Iteration #24500: SSR = 1.9799837698407996\n",
      "Iteration #25000: SSR = 1.9799837695830478\n",
      "Iteration #25500: SSR = 1.9799837693976958\n",
      "Iteration #26000: SSR = 1.9799837692644118\n",
      "Iteration #26500: SSR = 1.9799837691685567\n",
      "Iteration #27000: SSR = 1.97998376909963\n",
      "Iteration #27500: SSR = 1.979983769050067\n",
      "Iteration #28000: SSR = 1.9799837690144217\n",
      "Iteration #28500: SSR = 1.9799837689887885\n",
      "Iteration #29000: SSR = 1.9799837689703497\n",
      "Iteration #29500: SSR = 1.9799837689570965\n",
      "Iteration #30000: SSR = 1.9799837689475757\n",
      "Iteration #30500: SSR = 1.979983768940712\n",
      "Iteration #31000: SSR = 1.979983768935781\n",
      "Iteration #31500: SSR = 1.9799837689322382\n",
      "Iteration #32000: SSR = 1.9799837689296977\n",
      "Iteration #32500: SSR = 1.9799837689278517\n",
      "Iteration #33000: SSR = 1.9799837689265372\n",
      "Iteration #33500: SSR = 1.9799837689255948\n",
      "Iteration #34000: SSR = 1.9799837689249091\n",
      "Iteration #34500: SSR = 1.9799837689244149\n",
      "Iteration #35000: SSR = 1.9799837689240594\n",
      "Iteration #35500: SSR = 1.9799837689238098\n",
      "Iteration #36000: SSR = 1.9799837689236315\n",
      "Iteration #36500: SSR = 1.9799837689235007\n",
      "Iteration #37000: SSR = 1.979983768923407\n",
      "Iteration #37500: SSR = 1.9799837689233362\n",
      "Iteration #38000: SSR = 1.9799837689232889\n",
      "Iteration #38500: SSR = 1.9799837689232522\n",
      "Iteration #39000: SSR = 1.979983768923226\n",
      "Iteration #39500: SSR = 1.979983768923213\n",
      "Iteration #40000: SSR = 1.9799837689232\n",
      "Iteration #40500: SSR = 1.9799837689231836\n",
      "Iteration #41000: SSR = 1.9799837689231814\n",
      "Iteration #41500: SSR = 1.979983768923186\n",
      "Iteration #42000: SSR = 1.979983768923174\n",
      "Iteration #42500: SSR = 1.9799837689231679\n",
      "Iteration #43000: SSR = 1.9799837689231634\n",
      "Iteration #43500: SSR = 1.9799837689231756\n",
      "Iteration #44000: SSR = 1.9799837689231685\n",
      "Iteration #44500: SSR = 1.9799837689231612\n",
      "Iteration #45000: SSR = 1.9799837689231674\n",
      "Iteration #45500: SSR = 1.979983768923165\n",
      "Iteration #46000: SSR = 1.9799837689231625\n",
      "Iteration #46500: SSR = 1.979983768923162\n",
      "Iteration #47000: SSR = 1.9799837689231672\n",
      "Iteration #47500: SSR = 1.9799837689231654\n",
      "Iteration #48000: SSR = 1.9799837689231627\n",
      "Iteration #48500: SSR = 1.9799837689231594\n",
      "Iteration #49000: SSR = 1.9799837689231556\n",
      "Iteration #49500: SSR = 1.9799837689231627\n",
      "Iteration #50000: SSR = 1.979983768923158\n",
      "Iteration #50500: SSR = 1.9799837689231679\n",
      "Iteration #51000: SSR = 1.9799837689231605\n",
      "Iteration #51500: SSR = 1.9799837689231616\n",
      "Iteration #52000: SSR = 1.9799837689231645\n",
      "Iteration #52500: SSR = 1.9799837689231643\n",
      "Iteration #53000: SSR = 1.979983768923166\n",
      "Iteration #53500: SSR = 1.9799837689231634\n",
      "Iteration #54000: SSR = 1.9799837689231647\n",
      "Iteration #54500: SSR = 1.9799837689231654\n",
      "Iteration #55000: SSR = 1.9799837689231612\n",
      "Iteration #55500: SSR = 1.9799837689231612\n",
      "Iteration #56000: SSR = 1.979983768923162\n",
      "Iteration #56500: SSR = 1.9799837689231627\n",
      "Iteration #57000: SSR = 1.9799837689231592\n",
      "Iteration #57500: SSR = 1.9799837689231594\n",
      "Iteration #58000: SSR = 1.9799837689231603\n",
      "Iteration #58500: SSR = 1.9799837689231627\n",
      "Iteration #59000: SSR = 1.979983768923163\n",
      "Iteration #59500: SSR = 1.9799837689231685\n",
      "Iteration #60000: SSR = 1.979983768923165\n",
      "Iteration #60500: SSR = 1.9799837689231647\n",
      "Iteration #61000: SSR = 1.9799837689231612\n",
      "Iteration #61500: SSR = 1.979983768923162\n",
      "Iteration #62000: SSR = 1.9799837689231645\n",
      "Iteration #62500: SSR = 1.9799837689231587\n",
      "Iteration #63000: SSR = 1.9799837689231654\n",
      "Iteration #63500: SSR = 1.9799837689231632\n",
      "Iteration #64000: SSR = 1.9799837689231643\n",
      "Iteration #64500: SSR = 1.9799837689231659\n",
      "Iteration #65000: SSR = 1.979983768923165\n",
      "Iteration #65500: SSR = 1.9799837689231625\n",
      "Iteration #66000: SSR = 1.9799837689231645\n",
      "Iteration #66500: SSR = 1.9799837689231623\n",
      "Iteration #67000: SSR = 1.979983768923164\n",
      "Iteration #67500: SSR = 1.9799837689231636\n",
      "Iteration #68000: SSR = 1.9799837689231605\n",
      "Iteration #68500: SSR = 1.9799837689231665\n",
      "Iteration #69000: SSR = 1.9799837689231645\n",
      "Iteration #69500: SSR = 1.979983768923168\n",
      "Iteration #70000: SSR = 1.9799837689231623\n",
      "Iteration #70500: SSR = 1.9799837689231619\n",
      "Iteration #71000: SSR = 1.9799837689231565\n",
      "Iteration #71500: SSR = 1.979983768923164\n",
      "Iteration #72000: SSR = 1.9799837689231636\n",
      "Iteration #72500: SSR = 1.979983768923162\n",
      "Iteration #73000: SSR = 1.979983768923162\n",
      "Iteration #73500: SSR = 1.979983768923162\n",
      "Iteration #74000: SSR = 1.979983768923162\n",
      "Iteration #74500: SSR = 1.979983768923162\n",
      "Iteration #75000: SSR = 1.979983768923162\n",
      "Iteration #75500: SSR = 1.979983768923162\n",
      "Iteration #76000: SSR = 1.979983768923162\n",
      "Iteration #76500: SSR = 1.979983768923162\n",
      "Iteration #77000: SSR = 1.979983768923162\n",
      "Iteration #77500: SSR = 1.979983768923162\n",
      "Iteration #78000: SSR = 1.979983768923162\n",
      "Iteration #78500: SSR = 1.979983768923162\n",
      "Iteration #79000: SSR = 1.979983768923162\n",
      "Iteration #79500: SSR = 1.979983768923162\n",
      "Iteration #80000: SSR = 1.979983768923162\n",
      "Iteration #80500: SSR = 1.979983768923162\n",
      "Iteration #81000: SSR = 1.979983768923162\n",
      "Iteration #81500: SSR = 1.979983768923162\n",
      "Iteration #82000: SSR = 1.979983768923162\n",
      "Iteration #82500: SSR = 1.979983768923162\n",
      "Iteration #83000: SSR = 1.979983768923162\n",
      "Iteration #83500: SSR = 1.979983768923162\n",
      "Iteration #84000: SSR = 1.979983768923162\n",
      "Iteration #84500: SSR = 1.979983768923162\n",
      "Iteration #85000: SSR = 1.979983768923162\n",
      "Iteration #85500: SSR = 1.979983768923162\n",
      "Iteration #86000: SSR = 1.979983768923162\n",
      "Iteration #86500: SSR = 1.979983768923162\n",
      "Iteration #87000: SSR = 1.979983768923162\n",
      "Iteration #87500: SSR = 1.979983768923162\n",
      "Iteration #88000: SSR = 1.979983768923162\n",
      "Iteration #88500: SSR = 1.979983768923162\n",
      "Iteration #89000: SSR = 1.979983768923162\n",
      "Iteration #89500: SSR = 1.979983768923162\n",
      "Iteration #90000: SSR = 1.979983768923162\n",
      "Iteration #90500: SSR = 1.979983768923162\n",
      "Iteration #91000: SSR = 1.979983768923162\n",
      "Iteration #91500: SSR = 1.979983768923162\n",
      "Iteration #92000: SSR = 1.979983768923162\n",
      "Iteration #92500: SSR = 1.979983768923162\n",
      "Iteration #93000: SSR = 1.979983768923162\n",
      "Iteration #93500: SSR = 1.979983768923162\n",
      "Iteration #94000: SSR = 1.979983768923162\n",
      "Iteration #94500: SSR = 1.979983768923162\n",
      "Iteration #95000: SSR = 1.979983768923162\n",
      "Iteration #95500: SSR = 1.979983768923162\n",
      "Iteration #96000: SSR = 1.979983768923162\n",
      "Iteration #96500: SSR = 1.979983768923162\n",
      "Iteration #97000: SSR = 1.979983768923162\n",
      "Iteration #97500: SSR = 1.979983768923162\n",
      "Iteration #98000: SSR = 1.979983768923162\n",
      "Iteration #98500: SSR = 1.979983768923162\n",
      "Iteration #99000: SSR = 1.979983768923162\n",
      "Iteration #99500: SSR = 1.979983768923162\n",
      "Final estimates: w0 = 28.8952457367221; w1 = -0.012980647746436915\n"
     ]
    }
   ],
   "source": [
    "for i in np.arange(100000):\n",
    "    w1 = update_w1(x, y, w0) \n",
    "    w0 = update_w0(x, y, w1) \n",
    "    if i % 500 == 0:\n",
    "        print(\"Iteration #{}: SSR = {}\".format(i, compute_SSR(x, y, w0, w1)))\n",
    "print(\"Final estimates: w0 = {}; w1 = {}\".format(w0, w1))"
   ]
  },
  {
   "cell_type": "markdown",
   "metadata": {},
   "source": [
    "Let's try plotting the result again."
   ]
  },
  {
   "cell_type": "code",
   "execution_count": 24,
   "metadata": {
    "collapsed": false
   },
   "outputs": [
    {
     "data": {
      "image/png": "[encoded data removed]",
      "text/plain": [
       "<matplotlib.figure.Figure at 0x807f518>"
      ]
     },
     "metadata": {},
     "output_type": "display_data"
    }
   ],
   "source": [
    "plot_fit(x_test, predict(x_test, w0, w1), x, y)"
   ]
  },
  {
   "cell_type": "markdown",
   "metadata": {},
   "source": [
    "Does more than 10 iterations considerably improve fit in this case?"
   ]
  },
  {
   "cell_type": "markdown",
   "metadata": {},
   "source": [
    "### 4. Linear algebra solution"
   ]
  },
  {
   "cell_type": "markdown",
   "metadata": {},
   "source": [
    "In lectures, we saw that it's possible to solve for the optimal weights $\\mathbf{w}^\\star$ analytically. The solution is\n",
    "$$\\mathbf{w}^* = \\left[\\mathbf{X}^\\top \\mathbf{X}\\right]^{-1} \\mathbf{X}^\\top \\mathbf{y}$$\n",
    "where\n",
    "$$\\mathbf{X} = \\begin{pmatrix} \n",
    "        1 & x_1 \\\\ 1 & x_2 \\\\ \\vdots & \\vdots \\\\ 1 & x_n \n",
    "    \\end{pmatrix} \n",
    "  \\quad \\text{and} \\quad \n",
    "  \\mathbf{y} = \\begin{pmatrix} \n",
    "          y_1 \\\\ y_2 \\\\ \\vdots \\\\ y_n\n",
    "      \\end{pmatrix}\n",
    "$$\n",
    "\n",
    "We construct $\\mathbf{X}$ in the code block below, remembering to include the $x_0 = 1$ column for the bias (intercept)."
   ]
  },
  {
   "cell_type": "code",
   "execution_count": 33,
   "metadata": {
    "collapsed": false
   },
   "outputs": [
    {
     "name": "stdout",
     "output_type": "stream",
     "text": [
      "[[  1.00000000e+00   1.89600000e+03]\n",
      " [  1.00000000e+00   1.90000000e+03]\n",
      " [  1.00000000e+00   1.90400000e+03]\n",
      " [  1.00000000e+00   1.90800000e+03]\n",
      " [  1.00000000e+00   1.91200000e+03]\n",
      " [  1.00000000e+00   1.92000000e+03]\n",
      " [  1.00000000e+00   1.92400000e+03]\n",
      " [  1.00000000e+00   1.92800000e+03]\n",
      " [  1.00000000e+00   1.93200000e+03]\n",
      " [  1.00000000e+00   1.93600000e+03]\n",
      " [  1.00000000e+00   1.94800000e+03]\n",
      " [  1.00000000e+00   1.95200000e+03]\n",
      " [  1.00000000e+00   1.95600000e+03]\n",
      " [  1.00000000e+00   1.96000000e+03]\n",
      " [  1.00000000e+00   1.96400000e+03]\n",
      " [  1.00000000e+00   1.96800000e+03]\n",
      " [  1.00000000e+00   1.97200000e+03]\n",
      " [  1.00000000e+00   1.97600000e+03]\n",
      " [  1.00000000e+00   1.98000000e+03]\n",
      " [  1.00000000e+00   1.98400000e+03]\n",
      " [  1.00000000e+00   1.98800000e+03]\n",
      " [  1.00000000e+00   1.99200000e+03]\n",
      " [  1.00000000e+00   1.99600000e+03]\n",
      " [  1.00000000e+00   2.00000000e+03]\n",
      " [  1.00000000e+00   2.00400000e+03]\n",
      " [  1.00000000e+00   2.00800000e+03]\n",
      " [  1.00000000e+00   2.01200000e+03]]\n"
     ]
    }
   ],
   "source": [
    "X = np.hstack((np.ones_like(x), x))\n",
    "print(X)"
   ]
  },
  {
   "cell_type": "markdown",
   "metadata": {},
   "source": [
    "Although we can express $\\mathbf{w}^\\star$ explicitly in terms of the matrix inverse $(\\mathbf{X}^\\top \\mathbf{X})^{-1}$, this isn't an efficient way to compute $\\mathbf{w}$ numerically. It is better instead to solve the following system of linear equations:\n",
    "$$\\mathbf{X}^\\top\\mathbf{X} \\mathbf{w}^\\star = \\mathbf{X}^\\top\\mathbf{y}$$\n",
    "\n",
    "This can be done in numpy using the command"
   ]
  },
  {
   "cell_type": "code",
   "execution_count": 85,
   "metadata": {
    "collapsed": true
   },
   "outputs": [],
   "source": [
    "np.linalg.solve?"
   ]
  },
  {
   "cell_type": "markdown",
   "metadata": {},
   "source": [
    "which gives"
   ]
  },
  {
   "cell_type": "code",
   "execution_count": 35,
   "metadata": {
    "collapsed": false
   },
   "outputs": [
    {
     "data": {
      "text/plain": [
       "array([[  1.00000000e+00,   1.89600000e+03],\n",
       "       [  1.00000000e+00,   1.90000000e+03],\n",
       "       [  1.00000000e+00,   1.90400000e+03],\n",
       "       [  1.00000000e+00,   1.90800000e+03],\n",
       "       [  1.00000000e+00,   1.91200000e+03],\n",
       "       [  1.00000000e+00,   1.92000000e+03],\n",
       "       [  1.00000000e+00,   1.92400000e+03],\n",
       "       [  1.00000000e+00,   1.92800000e+03],\n",
       "       [  1.00000000e+00,   1.93200000e+03],\n",
       "       [  1.00000000e+00,   1.93600000e+03],\n",
       "       [  1.00000000e+00,   1.94800000e+03],\n",
       "       [  1.00000000e+00,   1.95200000e+03],\n",
       "       [  1.00000000e+00,   1.95600000e+03],\n",
       "       [  1.00000000e+00,   1.96000000e+03],\n",
       "       [  1.00000000e+00,   1.96400000e+03],\n",
       "       [  1.00000000e+00,   1.96800000e+03],\n",
       "       [  1.00000000e+00,   1.97200000e+03],\n",
       "       [  1.00000000e+00,   1.97600000e+03],\n",
       "       [  1.00000000e+00,   1.98000000e+03],\n",
       "       [  1.00000000e+00,   1.98400000e+03],\n",
       "       [  1.00000000e+00,   1.98800000e+03],\n",
       "       [  1.00000000e+00,   1.99200000e+03],\n",
       "       [  1.00000000e+00,   1.99600000e+03],\n",
       "       [  1.00000000e+00,   2.00000000e+03],\n",
       "       [  1.00000000e+00,   2.00400000e+03],\n",
       "       [  1.00000000e+00,   2.00800000e+03],\n",
       "       [  1.00000000e+00,   2.01200000e+03]])"
      ]
     },
     "execution_count": 35,
     "metadata": {},
     "output_type": "execute_result"
    }
   ],
   "source": [
    "X"
   ]
  },
  {
   "cell_type": "code",
   "execution_count": 41,
   "metadata": {
    "collapsed": false
   },
   "outputs": [
    {
     "name": "stdout",
     "output_type": "stream",
     "text": [
      "[[  2.88952457e+01]\n",
      " [ -1.29806477e-02]]\n"
     ]
    }
   ],
   "source": [
    "w = np.linalg.solve(np.dot(X.T,X),np.dot(X.T,y)) # fill in\n",
    "print(w)"
   ]
  },
  {
   "cell_type": "markdown",
   "metadata": {},
   "source": [
    "Plotting this solution, as before:"
   ]
  },
  {
   "cell_type": "code",
   "execution_count": null,
   "metadata": {
    "collapsed": true
   },
   "outputs": [],
   "source": [
    "w0, w1 = w\n",
    "plot_fit(x_test, predict(x_test, w0, w1), x, y)"
   ]
  },
  {
   "cell_type": "markdown",
   "metadata": {},
   "source": [
    "You should verify that the sum of squared residuals $SSR(w_0, w_1)$, match or beats the earlier iterative result."
   ]
  },
  {
   "cell_type": "code",
   "execution_count": 86,
   "metadata": {
    "collapsed": false
   },
   "outputs": [
    {
     "name": "stdout",
     "output_type": "stream",
     "text": [
      "[[0.45709713]\n",
      " [0.32835356]\n",
      " [0.08614511]\n",
      " [0.44186272]\n",
      " [0.65111545]\n",
      " [0.85077908]\n",
      " [0.31155658]\n",
      " [0.42082208]\n",
      " [0.32664664]\n",
      " [0.26666142]\n",
      " [0.00331555]\n",
      " [0.05208463]\n",
      " [0.00531636]\n",
      " [0.03776693]\n",
      " [0.02503938]\n",
      " [0.02142584]\n",
      " [0.0039926 ]\n",
      " [0.01333575]\n",
      " [0.06325836]\n",
      " [0.10265312]\n",
      " [0.20940863]\n",
      " [0.40237157]\n",
      " [0.52553117]\n",
      " [0.60347067]\n",
      " [0.81610555]\n",
      " [0.82569038]\n",
      " [1.10881225]]\n"
     ]
    }
   ],
   "source": [
    "print(compute_SSR(x, y, w0, w1))"
   ]
  },
  {
   "cell_type": "markdown",
   "metadata": {},
   "source": [
    "**Note:** The error we computed above is the *training* error. It doesn't assess the model's generalization ability, it only assesses how well it's performing on the given training data. In later worksheets we'll assess the generalization ability of models using held-out evaluation data."
   ]
  },
  {
   "cell_type": "markdown",
   "metadata": {},
   "source": [
    "### 5. Solving using scikit-learn"
   ]
  },
  {
   "cell_type": "markdown",
   "metadata": {},
   "source": [
    "Now that you have a good understanding of what's going on under the hood, you can use the functionality in `sklearn` to solve linear regression problems you encounter in the future. Using the `LinearRegression` module, fitting a linear regression model becomes a one-liner as shown below."
   ]
  },
  {
   "cell_type": "code",
   "execution_count": 87,
   "metadata": {
    "collapsed": true
   },
   "outputs": [],
   "source": [
    "from sklearn.linear_model import LinearRegression\n",
    "lr = LinearRegression().fit(x, y)"
   ]
  },
  {
   "cell_type": "markdown",
   "metadata": {},
   "source": [
    "The `LinearRegression` module provides access to the bias weight $w_0$ under the `intercept_` property"
   ]
  },
  {
   "cell_type": "code",
   "execution_count": 88,
   "metadata": {
    "collapsed": false
   },
   "outputs": [
    {
     "data": {
      "text/plain": [
       "array([28.89524574])"
      ]
     },
     "execution_count": 88,
     "metadata": {},
     "output_type": "execute_result"
    }
   ],
   "source": [
    "lr.intercept_"
   ]
  },
  {
   "cell_type": "markdown",
   "metadata": {},
   "source": [
    "and the non-bias weights under the `coef_` property"
   ]
  },
  {
   "cell_type": "code",
   "execution_count": 89,
   "metadata": {
    "collapsed": false
   },
   "outputs": [
    {
     "data": {
      "text/plain": [
       "array([[-0.01298065]])"
      ]
     },
     "execution_count": 89,
     "metadata": {},
     "output_type": "execute_result"
    }
   ],
   "source": [
    "lr.coef_"
   ]
  },
  {
   "cell_type": "markdown",
   "metadata": {},
   "source": [
    "You should check that these results match the solution you obtained previously. Note that sklearn also uses a numerical linear algebra solver under the hood."
   ]
  }
 ],
 "metadata": {
  "kernelspec": {
   "display_name": "Python 3",
   "language": "python",
   "name": "python3"
  },
  "language_info": {
   "codemirror_mode": {
    "name": "ipython",
    "version": 3
   },
   "file_extension": ".py",
   "mimetype": "text/x-python",
   "name": "python",
   "nbconvert_exporter": "python",
   "pygments_lexer": "ipython3",
   "version": "3.6.0"
  }
 },
 "nbformat": 4,
 "nbformat_minor": 2
}
